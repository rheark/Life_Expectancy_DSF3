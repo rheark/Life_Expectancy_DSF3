{
 "cells": [
  {
   "cell_type": "code",
   "execution_count": 1,
   "id": "5e760b60",
   "metadata": {},
   "outputs": [],
   "source": [
    "import pandas as pd\n",
    "import numpy as np\n",
    "import seaborn as sb\n",
    "import matplotlib.pyplot as plt\n",
    "sb.set()"
   ]
  },
  {
   "cell_type": "code",
   "execution_count": 2,
   "id": "dedd6b04",
   "metadata": {},
   "outputs": [],
   "source": [
    "import pandas as pd\n",
    "import numpy as np\n",
    "import seaborn as sb\n",
    "import matplotlib.pyplot as plt\n",
    "sb.set()"
   ]
  },
  {
   "cell_type": "code",
   "execution_count": 3,
   "id": "54f9df28",
   "metadata": {},
   "outputs": [
    {
     "data": {
      "text/html": [
       "<div>\n",
       "<style scoped>\n",
       "    .dataframe tbody tr th:only-of-type {\n",
       "        vertical-align: middle;\n",
       "    }\n",
       "\n",
       "    .dataframe tbody tr th {\n",
       "        vertical-align: top;\n",
       "    }\n",
       "\n",
       "    .dataframe thead th {\n",
       "        text-align: right;\n",
       "    }\n",
       "</style>\n",
       "<table border=\"1\" class=\"dataframe\">\n",
       "  <thead>\n",
       "    <tr style=\"text-align: right;\">\n",
       "      <th></th>\n",
       "      <th>country</th>\n",
       "      <th>country_code</th>\n",
       "      <th>region</th>\n",
       "      <th>year</th>\n",
       "      <th>life_expect</th>\n",
       "      <th>life_exp60</th>\n",
       "      <th>adult_mortality</th>\n",
       "      <th>infant_mort</th>\n",
       "      <th>age1-4mort</th>\n",
       "      <th>alcohol</th>\n",
       "      <th>...</th>\n",
       "      <th>che_gdp</th>\n",
       "      <th>une_pop</th>\n",
       "      <th>une_infant</th>\n",
       "      <th>une_life</th>\n",
       "      <th>une_hiv</th>\n",
       "      <th>une_gni</th>\n",
       "      <th>une_poverty</th>\n",
       "      <th>une_edu_spend</th>\n",
       "      <th>une_literacy</th>\n",
       "      <th>une_school</th>\n",
       "    </tr>\n",
       "  </thead>\n",
       "  <tbody>\n",
       "    <tr>\n",
       "      <th>0</th>\n",
       "      <td>Angola</td>\n",
       "      <td>AGO</td>\n",
       "      <td>Africa</td>\n",
       "      <td>2000</td>\n",
       "      <td>47.33730</td>\n",
       "      <td>14.73400</td>\n",
       "      <td>383.5583</td>\n",
       "      <td>0.137985</td>\n",
       "      <td>0.025695</td>\n",
       "      <td>1.47439</td>\n",
       "      <td>...</td>\n",
       "      <td>1.90860</td>\n",
       "      <td>16395.473</td>\n",
       "      <td>122.2</td>\n",
       "      <td>46.522</td>\n",
       "      <td>1.0</td>\n",
       "      <td>2530.0</td>\n",
       "      <td>32.3</td>\n",
       "      <td>2.60753</td>\n",
       "      <td>NaN</td>\n",
       "      <td>NaN</td>\n",
       "    </tr>\n",
       "    <tr>\n",
       "      <th>1</th>\n",
       "      <td>Angola</td>\n",
       "      <td>AGO</td>\n",
       "      <td>Africa</td>\n",
       "      <td>2001</td>\n",
       "      <td>48.19789</td>\n",
       "      <td>14.95963</td>\n",
       "      <td>372.3876</td>\n",
       "      <td>0.133675</td>\n",
       "      <td>0.024500</td>\n",
       "      <td>1.94025</td>\n",
       "      <td>...</td>\n",
       "      <td>4.48352</td>\n",
       "      <td>16945.753</td>\n",
       "      <td>118.9</td>\n",
       "      <td>47.059</td>\n",
       "      <td>1.1</td>\n",
       "      <td>2630.0</td>\n",
       "      <td>NaN</td>\n",
       "      <td>NaN</td>\n",
       "      <td>67.40542</td>\n",
       "      <td>NaN</td>\n",
       "    </tr>\n",
       "    <tr>\n",
       "      <th>2</th>\n",
       "      <td>Angola</td>\n",
       "      <td>AGO</td>\n",
       "      <td>Africa</td>\n",
       "      <td>2002</td>\n",
       "      <td>49.42569</td>\n",
       "      <td>15.20010</td>\n",
       "      <td>354.5147</td>\n",
       "      <td>0.128320</td>\n",
       "      <td>0.023260</td>\n",
       "      <td>2.07512</td>\n",
       "      <td>...</td>\n",
       "      <td>3.32946</td>\n",
       "      <td>17519.417</td>\n",
       "      <td>115.1</td>\n",
       "      <td>47.702</td>\n",
       "      <td>1.2</td>\n",
       "      <td>3180.0</td>\n",
       "      <td>NaN</td>\n",
       "      <td>NaN</td>\n",
       "      <td>NaN</td>\n",
       "      <td>NaN</td>\n",
       "    </tr>\n",
       "    <tr>\n",
       "      <th>3</th>\n",
       "      <td>Angola</td>\n",
       "      <td>AGO</td>\n",
       "      <td>Africa</td>\n",
       "      <td>2003</td>\n",
       "      <td>50.50266</td>\n",
       "      <td>15.39144</td>\n",
       "      <td>343.2169</td>\n",
       "      <td>0.122040</td>\n",
       "      <td>0.021925</td>\n",
       "      <td>2.20275</td>\n",
       "      <td>...</td>\n",
       "      <td>3.54797</td>\n",
       "      <td>18121.479</td>\n",
       "      <td>110.8</td>\n",
       "      <td>48.440</td>\n",
       "      <td>1.3</td>\n",
       "      <td>3260.0</td>\n",
       "      <td>NaN</td>\n",
       "      <td>NaN</td>\n",
       "      <td>NaN</td>\n",
       "      <td>NaN</td>\n",
       "    </tr>\n",
       "    <tr>\n",
       "      <th>4</th>\n",
       "      <td>Angola</td>\n",
       "      <td>AGO</td>\n",
       "      <td>Africa</td>\n",
       "      <td>2004</td>\n",
       "      <td>51.52863</td>\n",
       "      <td>15.56860</td>\n",
       "      <td>333.8711</td>\n",
       "      <td>0.115700</td>\n",
       "      <td>0.020545</td>\n",
       "      <td>2.41274</td>\n",
       "      <td>...</td>\n",
       "      <td>3.96720</td>\n",
       "      <td>18758.145</td>\n",
       "      <td>106.2</td>\n",
       "      <td>49.263</td>\n",
       "      <td>1.3</td>\n",
       "      <td>3560.0</td>\n",
       "      <td>NaN</td>\n",
       "      <td>NaN</td>\n",
       "      <td>NaN</td>\n",
       "      <td>NaN</td>\n",
       "    </tr>\n",
       "  </tbody>\n",
       "</table>\n",
       "<p>5 rows × 32 columns</p>\n",
       "</div>"
      ],
      "text/plain": [
       "  country country_code  region  year  life_expect  life_exp60  \\\n",
       "0  Angola          AGO  Africa  2000     47.33730    14.73400   \n",
       "1  Angola          AGO  Africa  2001     48.19789    14.95963   \n",
       "2  Angola          AGO  Africa  2002     49.42569    15.20010   \n",
       "3  Angola          AGO  Africa  2003     50.50266    15.39144   \n",
       "4  Angola          AGO  Africa  2004     51.52863    15.56860   \n",
       "\n",
       "   adult_mortality  infant_mort  age1-4mort  alcohol  ...  che_gdp    une_pop  \\\n",
       "0         383.5583     0.137985    0.025695  1.47439  ...  1.90860  16395.473   \n",
       "1         372.3876     0.133675    0.024500  1.94025  ...  4.48352  16945.753   \n",
       "2         354.5147     0.128320    0.023260  2.07512  ...  3.32946  17519.417   \n",
       "3         343.2169     0.122040    0.021925  2.20275  ...  3.54797  18121.479   \n",
       "4         333.8711     0.115700    0.020545  2.41274  ...  3.96720  18758.145   \n",
       "\n",
       "   une_infant  une_life  une_hiv  une_gni  une_poverty  une_edu_spend  \\\n",
       "0       122.2    46.522      1.0   2530.0         32.3        2.60753   \n",
       "1       118.9    47.059      1.1   2630.0          NaN            NaN   \n",
       "2       115.1    47.702      1.2   3180.0          NaN            NaN   \n",
       "3       110.8    48.440      1.3   3260.0          NaN            NaN   \n",
       "4       106.2    49.263      1.3   3560.0          NaN            NaN   \n",
       "\n",
       "   une_literacy  une_school  \n",
       "0           NaN         NaN  \n",
       "1      67.40542         NaN  \n",
       "2           NaN         NaN  \n",
       "3           NaN         NaN  \n",
       "4           NaN         NaN  \n",
       "\n",
       "[5 rows x 32 columns]"
      ]
     },
     "execution_count": 3,
     "metadata": {},
     "output_type": "execute_result"
    }
   ],
   "source": [
    "df = pd.read_csv('who_life_exp.csv')\n",
    "df.head()"
   ]
  },
  {
   "cell_type": "code",
   "execution_count": 4,
   "id": "1563e825",
   "metadata": {},
   "outputs": [
    {
     "name": "stdout",
     "output_type": "stream",
     "text": [
      "<class 'pandas.core.frame.DataFrame'>\n",
      "RangeIndex: 3111 entries, 0 to 3110\n",
      "Data columns (total 32 columns):\n",
      " #   Column           Non-Null Count  Dtype  \n",
      "---  ------           --------------  -----  \n",
      " 0   country          3111 non-null   object \n",
      " 1   country_code     3111 non-null   object \n",
      " 2   region           3111 non-null   object \n",
      " 3   year             3111 non-null   int64  \n",
      " 4   life_expect      3111 non-null   float64\n",
      " 5   life_exp60       3111 non-null   float64\n",
      " 6   adult_mortality  3111 non-null   float64\n",
      " 7   infant_mort      3111 non-null   float64\n",
      " 8   age1-4mort       3111 non-null   float64\n",
      " 9   alcohol          3061 non-null   float64\n",
      " 10  bmi              3077 non-null   float64\n",
      " 11  age5-19thinness  3077 non-null   float64\n",
      " 12  age5-19obesity   3077 non-null   float64\n",
      " 13  hepatitis        2542 non-null   float64\n",
      " 14  measles          3092 non-null   float64\n",
      " 15  polio            3092 non-null   float64\n",
      " 16  diphtheria       3092 non-null   float64\n",
      " 17  basic_water      3079 non-null   float64\n",
      " 18  doctors          1780 non-null   float64\n",
      " 19  hospitals        130 non-null    float64\n",
      " 20  gni_capita       2429 non-null   float64\n",
      " 21  gghe-d           3011 non-null   float64\n",
      " 22  che_gdp          2994 non-null   float64\n",
      " 23  une_pop          3074 non-null   float64\n",
      " 24  une_infant       3111 non-null   float64\n",
      " 25  une_life         3111 non-null   float64\n",
      " 26  une_hiv          2370 non-null   float64\n",
      " 27  une_gni          2994 non-null   float64\n",
      " 28  une_poverty      913 non-null    float64\n",
      " 29  une_edu_spend    1825 non-null   float64\n",
      " 30  une_literacy     571 non-null    float64\n",
      " 31  une_school       805 non-null    float64\n",
      "dtypes: float64(28), int64(1), object(3)\n",
      "memory usage: 777.9+ KB\n"
     ]
    }
   ],
   "source": [
    "df.info()"
   ]
  },
  {
   "cell_type": "code",
   "execution_count": 5,
   "id": "7b867dfa",
   "metadata": {},
   "outputs": [
    {
     "data": {
      "text/plain": [
       "country               0\n",
       "country_code          0\n",
       "region                0\n",
       "year                  0\n",
       "life_expect           0\n",
       "life_exp60            0\n",
       "adult_mortality       0\n",
       "infant_mort           0\n",
       "age1-4mort            0\n",
       "alcohol              50\n",
       "bmi                  34\n",
       "age5-19thinness      34\n",
       "age5-19obesity       34\n",
       "hepatitis           569\n",
       "measles              19\n",
       "polio                19\n",
       "diphtheria           19\n",
       "basic_water          32\n",
       "doctors            1331\n",
       "hospitals          2981\n",
       "gni_capita          682\n",
       "gghe-d              100\n",
       "che_gdp             117\n",
       "une_pop              37\n",
       "une_infant            0\n",
       "une_life              0\n",
       "une_hiv             741\n",
       "une_gni             117\n",
       "une_poverty        2198\n",
       "une_edu_spend      1286\n",
       "une_literacy       2540\n",
       "une_school         2306\n",
       "dtype: int64"
      ]
     },
     "execution_count": 5,
     "metadata": {},
     "output_type": "execute_result"
    }
   ],
   "source": [
    "df.isna().sum()"
   ]
  },
  {
   "cell_type": "markdown",
   "id": "aaa34e55",
   "metadata": {},
   "source": [
    "We decided to drop hostpital column because there is 96% of missing values in that column.\n",
    "We decided to drop the UNESCO datasets because there are overlapping predictors with the predictors in GHO datasets. Another reason we choose GHO datasets over UNESCO datasets is because some of them variables in UNESCO has more than 70% null data, eg une_poverty, une_edu_spend, une_literacy, une_school. However, we retained une_pop and une_hiv because these two variables are not found in GHO datasets.\n"
   ]
  },
  {
   "cell_type": "code",
   "execution_count": 6,
   "id": "d3b878ee",
   "metadata": {},
   "outputs": [],
   "source": [
    "df.drop(['une_infant', 'une_life', 'une_gni', 'une_poverty', 'une_edu_spend', 'une_literacy', 'une_school'], \n",
    "        axis = 1, inplace = True)"
   ]
  },
  {
   "cell_type": "markdown",
   "id": "6ef7473f",
   "metadata": {},
   "source": [
    "We decided to drop 'hostpital' column because there is 96% of missing values in that column. \n",
    "We also dropped 'country code' column because 'country' column itself is enough for reference."
   ]
  },
  {
   "cell_type": "code",
   "execution_count": 7,
   "id": "3c4ac335",
   "metadata": {},
   "outputs": [],
   "source": [
    "df.drop(['hospitals'], axis = 1, inplace = True)\n",
    "df.drop(['country_code'], axis = 1, inplace =True)"
   ]
  },
  {
   "cell_type": "code",
   "execution_count": 8,
   "id": "de607bbc",
   "metadata": {},
   "outputs": [
    {
     "data": {
      "text/html": [
       "<div>\n",
       "<style scoped>\n",
       "    .dataframe tbody tr th:only-of-type {\n",
       "        vertical-align: middle;\n",
       "    }\n",
       "\n",
       "    .dataframe tbody tr th {\n",
       "        vertical-align: top;\n",
       "    }\n",
       "\n",
       "    .dataframe thead th {\n",
       "        text-align: right;\n",
       "    }\n",
       "</style>\n",
       "<table border=\"1\" class=\"dataframe\">\n",
       "  <thead>\n",
       "    <tr style=\"text-align: right;\">\n",
       "      <th></th>\n",
       "      <th>adult_mortality</th>\n",
       "      <th>infant_mort</th>\n",
       "      <th>age1-4mort</th>\n",
       "    </tr>\n",
       "  </thead>\n",
       "  <tbody>\n",
       "    <tr>\n",
       "      <th>0</th>\n",
       "      <td>383.5583</td>\n",
       "      <td>0.137985</td>\n",
       "      <td>0.025695</td>\n",
       "    </tr>\n",
       "    <tr>\n",
       "      <th>1</th>\n",
       "      <td>372.3876</td>\n",
       "      <td>0.133675</td>\n",
       "      <td>0.024500</td>\n",
       "    </tr>\n",
       "    <tr>\n",
       "      <th>2</th>\n",
       "      <td>354.5147</td>\n",
       "      <td>0.128320</td>\n",
       "      <td>0.023260</td>\n",
       "    </tr>\n",
       "    <tr>\n",
       "      <th>3</th>\n",
       "      <td>343.2169</td>\n",
       "      <td>0.122040</td>\n",
       "      <td>0.021925</td>\n",
       "    </tr>\n",
       "    <tr>\n",
       "      <th>4</th>\n",
       "      <td>333.8711</td>\n",
       "      <td>0.115700</td>\n",
       "      <td>0.020545</td>\n",
       "    </tr>\n",
       "  </tbody>\n",
       "</table>\n",
       "</div>"
      ],
      "text/plain": [
       "   adult_mortality  infant_mort  age1-4mort\n",
       "0         383.5583     0.137985    0.025695\n",
       "1         372.3876     0.133675    0.024500\n",
       "2         354.5147     0.128320    0.023260\n",
       "3         343.2169     0.122040    0.021925\n",
       "4         333.8711     0.115700    0.020545"
      ]
     },
     "execution_count": 8,
     "metadata": {},
     "output_type": "execute_result"
    }
   ],
   "source": [
    "mortality = pd.DataFrame(df[['adult_mortality', 'infant_mort', 'age1-4mort']])\n",
    "mortality.head()"
   ]
  },
  {
   "cell_type": "markdown",
   "id": "862d9cb6",
   "metadata": {},
   "source": [
    "The values of adult mortality are rate per 1000 populations thus we convert it into the same format as the other two mortality rate in order to ease the EDA."
   ]
  },
  {
   "cell_type": "code",
   "execution_count": 9,
   "id": "e432455c",
   "metadata": {},
   "outputs": [],
   "source": [
    "for i in range(0, 3111):\n",
    "    val = df.iloc[i]['adult_mortality']\n",
    "    adjusted_val = val/1000 \n",
    "    df.at[i, 'adult_mortality'] = adjusted_val"
   ]
  },
  {
   "cell_type": "code",
   "execution_count": 10,
   "id": "a93d1092",
   "metadata": {},
   "outputs": [],
   "source": [
    "df.rename(columns = {'adult_mortality':'adult_mort_rate', 'infant_mort':'infant_mort_rate', 'age1-4mort':'age1-4_mort_rate'}, \n",
    "          inplace = True)"
   ]
  },
  {
   "cell_type": "code",
   "execution_count": 11,
   "id": "e778e77a",
   "metadata": {},
   "outputs": [
    {
     "data": {
      "text/plain": [
       "country                0\n",
       "region                 0\n",
       "year                   0\n",
       "life_expect            0\n",
       "life_exp60             0\n",
       "adult_mort_rate        0\n",
       "infant_mort_rate       0\n",
       "age1-4_mort_rate       0\n",
       "alcohol               50\n",
       "bmi                   34\n",
       "age5-19thinness       34\n",
       "age5-19obesity        34\n",
       "hepatitis            569\n",
       "measles               19\n",
       "polio                 19\n",
       "diphtheria            19\n",
       "basic_water           32\n",
       "doctors             1331\n",
       "gni_capita           682\n",
       "gghe-d               100\n",
       "che_gdp              117\n",
       "une_pop               37\n",
       "une_hiv              741\n",
       "dtype: int64"
      ]
     },
     "execution_count": 11,
     "metadata": {},
     "output_type": "execute_result"
    }
   ],
   "source": [
    "df.isna().sum()"
   ]
  },
  {
   "cell_type": "markdown",
   "id": "0d667904",
   "metadata": {},
   "source": [
    "## Checking missing values under 'alcohol' column"
   ]
  },
  {
   "cell_type": "code",
   "execution_count": 12,
   "id": "e4048d00",
   "metadata": {},
   "outputs": [
    {
     "data": {
      "text/plain": [
       "South Sudan    17\n",
       "Sudan          11\n",
       "Montenegro      6\n",
       "Serbia          6\n",
       "Afghanistan     5\n",
       "Canada          5\n",
       "Name: country, dtype: int64"
      ]
     },
     "execution_count": 12,
     "metadata": {},
     "output_type": "execute_result"
    }
   ],
   "source": [
    "df[df['alcohol'].isna()]['country'].value_counts()"
   ]
  },
  {
   "cell_type": "code",
   "execution_count": 13,
   "id": "0c326ed5",
   "metadata": {},
   "outputs": [],
   "source": [
    "sudan_df = pd.DataFrame(df[df['country'] == 'Sudan'])"
   ]
  },
  {
   "cell_type": "code",
   "execution_count": 14,
   "id": "baad89ad",
   "metadata": {},
   "outputs": [
    {
     "data": {
      "text/plain": [
       "[<matplotlib.lines.Line2D at 0x25e1ad0c400>]"
      ]
     },
     "execution_count": 14,
     "metadata": {},
     "output_type": "execute_result"
    },
    {
     "data": {
      "image/png": "[encoded data removed]",
      "text/plain": [
       "<Figure size 432x288 with 1 Axes>"
      ]
     },
     "metadata": {},
     "output_type": "display_data"
    }
   ],
   "source": [
    "plt.plot('year', 'alcohol', data = sudan_df)"
   ]
  },
  {
   "cell_type": "code",
   "execution_count": 15,
   "id": "1f234784",
   "metadata": {},
   "outputs": [],
   "source": [
    "sudan_df['alcohol'].interpolate(method = 'linear', limit_direction = 'both', inplace = True)"
   ]
  },
  {
   "cell_type": "code",
   "execution_count": 16,
   "id": "9b37be11",
   "metadata": {},
   "outputs": [
    {
     "data": {
      "text/plain": [
       "[<matplotlib.lines.Line2D at 0x25e1c44ad30>]"
      ]
     },
     "execution_count": 16,
     "metadata": {},
     "output_type": "execute_result"
    },
    {
     "data": {
      "image/png": "[encoded data removed]",
      "text/plain": [
       "<Figure size 432x288 with 1 Axes>"
      ]
     },
     "metadata": {},
     "output_type": "display_data"
    }
   ],
   "source": [
    "plt.plot('year', 'alcohol', data = sudan_df)"
   ]
  },
  {
   "cell_type": "code",
   "execution_count": 17,
   "id": "4c7da5b7",
   "metadata": {},
   "outputs": [],
   "source": [
    "sudan_df = pd.DataFrame(df[df['country'] == 'Sudan'])"
   ]
  },
  {
   "cell_type": "code",
   "execution_count": 18,
   "id": "d75737a0",
   "metadata": {},
   "outputs": [],
   "source": [
    "sudan_df.bfill(inplace = True)"
   ]
  },
  {
   "cell_type": "code",
   "execution_count": 19,
   "id": "726d5b58",
   "metadata": {},
   "outputs": [
    {
     "data": {
      "text/plain": [
       "[<matplotlib.lines.Line2D at 0x25e1c4adc40>]"
      ]
     },
     "execution_count": 19,
     "metadata": {},
     "output_type": "execute_result"
    },
    {
     "data": {
      "image/png": "[encoded data removed]",
      "text/plain": [
       "<Figure size 432x288 with 1 Axes>"
      ]
     },
     "metadata": {},
     "output_type": "display_data"
    }
   ],
   "source": [
    "plt.plot('year', 'alcohol', data = sudan_df)"
   ]
  },
  {
   "cell_type": "code",
   "execution_count": 20,
   "id": "050c27f0",
   "metadata": {},
   "outputs": [
    {
     "data": {
      "text/plain": [
       "[<matplotlib.lines.Line2D at 0x25e1c50e280>]"
      ]
     },
     "execution_count": 20,
     "metadata": {},
     "output_type": "execute_result"
    },
    {
     "data": {
      "image/png": "[encoded data removed]",
      "text/plain": [
       "<Figure size 432x288 with 1 Axes>"
      ]
     },
     "metadata": {},
     "output_type": "display_data"
    }
   ],
   "source": [
    "sudan_df = pd.DataFrame(df[df['country'] == 'Sudan'])\n",
    "sudan_df.ffill(inplace = True)\n",
    "plt.plot('year', 'alcohol', data = sudan_df)"
   ]
  },
  {
   "cell_type": "code",
   "execution_count": 21,
   "id": "6419a0d6",
   "metadata": {},
   "outputs": [],
   "source": [
    "canada_df = pd.DataFrame(df[df['country'] == 'Canada'])"
   ]
  },
  {
   "cell_type": "code",
   "execution_count": 22,
   "id": "d3c3253f",
   "metadata": {},
   "outputs": [
    {
     "data": {
      "text/plain": [
       "[<matplotlib.lines.Line2D at 0x25e1c55e2b0>]"
      ]
     },
     "execution_count": 22,
     "metadata": {},
     "output_type": "execute_result"
    },
    {
     "data": {
      "image/png": "[encoded data removed]",
      "text/plain": [
       "<Figure size 432x288 with 1 Axes>"
      ]
     },
     "metadata": {},
     "output_type": "display_data"
    }
   ],
   "source": [
    "plt.plot('year', 'alcohol', data = canada_df)"
   ]
  },
  {
   "cell_type": "code",
   "execution_count": 23,
   "id": "5d960351",
   "metadata": {},
   "outputs": [],
   "source": [
    "canada_df['alcohol'].interpolate(method = 'linear', limit_direction = 'both', inplace = True)"
   ]
  },
  {
   "cell_type": "code",
   "execution_count": 24,
   "id": "00989d08",
   "metadata": {},
   "outputs": [
    {
     "data": {
      "text/plain": [
       "[<matplotlib.lines.Line2D at 0x25e1c5abfd0>]"
      ]
     },
     "execution_count": 24,
     "metadata": {},
     "output_type": "execute_result"
    },
    {
     "data": {
      "image/png": "[encoded data removed]",
      "text/plain": [
       "<Figure size 432x288 with 1 Axes>"
      ]
     },
     "metadata": {},
     "output_type": "display_data"
    }
   ],
   "source": [
    "plt.plot('year', 'alcohol', data = canada_df)"
   ]
  },
  {
   "cell_type": "code",
   "execution_count": 25,
   "id": "e2a2ceca",
   "metadata": {},
   "outputs": [],
   "source": [
    "canada_df = pd.DataFrame(df[df['country'] == 'Canada'])"
   ]
  },
  {
   "cell_type": "code",
   "execution_count": 26,
   "id": "52cd47c6",
   "metadata": {},
   "outputs": [],
   "source": [
    "canada_df.ffill(inplace = True)"
   ]
  },
  {
   "cell_type": "code",
   "execution_count": 27,
   "id": "1e54e8ef",
   "metadata": {},
   "outputs": [
    {
     "data": {
      "text/plain": [
       "[<matplotlib.lines.Line2D at 0x25e1c60ee50>]"
      ]
     },
     "execution_count": 27,
     "metadata": {},
     "output_type": "execute_result"
    },
    {
     "data": {
      "image/png": "[encoded data removed]",
      "text/plain": [
       "<Figure size 432x288 with 1 Axes>"
      ]
     },
     "metadata": {},
     "output_type": "display_data"
    }
   ],
   "source": [
    "cnd_df = pd.DataFrame(df[df['country'] == 'Canada'])\n",
    "cnd_df.bfill(inplace = True)\n",
    "plt.plot('year', 'alcohol', data = cnd_df)"
   ]
  },
  {
   "cell_type": "code",
   "execution_count": 28,
   "id": "e7e17d4c",
   "metadata": {},
   "outputs": [
    {
     "data": {
      "text/plain": [
       "[<matplotlib.lines.Line2D at 0x25e1c67c400>]"
      ]
     },
     "execution_count": 28,
     "metadata": {},
     "output_type": "execute_result"
    },
    {
     "data": {
      "image/png": "[encoded data removed]",
      "text/plain": [
       "<Figure size 432x288 with 1 Axes>"
      ]
     },
     "metadata": {},
     "output_type": "display_data"
    }
   ],
   "source": [
    "cnd_df = pd.DataFrame(df[df['country'] == 'Canada'])\n",
    "cnd_df.ffill(inplace = True)\n",
    "plt.plot('year', 'alcohol', data = cnd_df)"
   ]
  },
  {
   "cell_type": "code",
   "execution_count": 29,
   "id": "64e2f678",
   "metadata": {},
   "outputs": [],
   "source": [
    "afg_df = pd.DataFrame(df[df['country'] == 'Afghanistan'])"
   ]
  },
  {
   "cell_type": "code",
   "execution_count": 30,
   "id": "39aec497",
   "metadata": {},
   "outputs": [
    {
     "data": {
      "text/plain": [
       "[<matplotlib.lines.Line2D at 0x25e1c6d18b0>]"
      ]
     },
     "execution_count": 30,
     "metadata": {},
     "output_type": "execute_result"
    },
    {
     "data": {
      "image/png": "[encoded data removed]",
      "text/plain": [
       "<Figure size 432x288 with 1 Axes>"
      ]
     },
     "metadata": {},
     "output_type": "display_data"
    }
   ],
   "source": [
    "plt.plot('year', 'alcohol', data = afg_df)"
   ]
  },
  {
   "cell_type": "code",
   "execution_count": 31,
   "id": "c74248cb",
   "metadata": {},
   "outputs": [],
   "source": [
    "afg_df['alcohol'].interpolate(method = 'linear', limit_direction = 'both', inplace = True)"
   ]
  },
  {
   "cell_type": "code",
   "execution_count": 32,
   "id": "6b789ac5",
   "metadata": {},
   "outputs": [
    {
     "data": {
      "text/plain": [
       "[<matplotlib.lines.Line2D at 0x25e1c41f1f0>]"
      ]
     },
     "execution_count": 32,
     "metadata": {},
     "output_type": "execute_result"
    },
    {
     "data": {
      "image/png": "[encoded data removed]",
      "text/plain": [
       "<Figure size 432x288 with 1 Axes>"
      ]
     },
     "metadata": {},
     "output_type": "display_data"
    }
   ],
   "source": [
    "plt.plot('year', 'alcohol', data = afg_df)"
   ]
  },
  {
   "cell_type": "code",
   "execution_count": 33,
   "id": "c88cd65c",
   "metadata": {},
   "outputs": [
    {
     "data": {
      "text/plain": [
       "[<matplotlib.lines.Line2D at 0x25e1c705f70>]"
      ]
     },
     "execution_count": 33,
     "metadata": {},
     "output_type": "execute_result"
    },
    {
     "data": {
      "image/png": "[encoded data removed]",
      "text/plain": [
       "<Figure size 432x288 with 1 Axes>"
      ]
     },
     "metadata": {},
     "output_type": "display_data"
    }
   ],
   "source": [
    "afg_df = pd.DataFrame(df[df['country'] == 'Afghanistan'])\n",
    "afg_df.bfill(inplace = True)\n",
    "plt.plot('year', 'alcohol', data = afg_df)"
   ]
  },
  {
   "cell_type": "code",
   "execution_count": 34,
   "id": "27444b8d",
   "metadata": {},
   "outputs": [
    {
     "data": {
      "text/plain": [
       "[<matplotlib.lines.Line2D at 0x25e1c7c52e0>]"
      ]
     },
     "execution_count": 34,
     "metadata": {},
     "output_type": "execute_result"
    },
    {
     "data": {
      "image/png": "[encoded data removed]",
      "text/plain": [
       "<Figure size 432x288 with 1 Axes>"
      ]
     },
     "metadata": {},
     "output_type": "display_data"
    }
   ],
   "source": [
    "afg_df = pd.DataFrame(df[df['country'] == 'Afghanistan'])\n",
    "afg_df.ffill(inplace = True)\n",
    "plt.plot('year', 'alcohol', data = afg_df)"
   ]
  },
  {
   "cell_type": "markdown",
   "id": "54f4bd74",
   "metadata": {},
   "source": [
    "Analysis : It is obvious that no trend can be observed from the above plot as the years given to observe the trend of the data are too few and also the missing values are usually appear to be missing in consecutive years. In addition to this, we realisedt that forward filling is not working in this case and this indicates that backward filling might also not working for other cases. Thus, interpolation with linear method and both directin will be the better method to fill in the missing values as it is able to fill in missing values which appears to be in the recent years or in the earliest year. Furthermore, if the missing values are more than 10 for a country, we tend not to fill in the null values as too few of available datas to be used as reference for filling in the missing values and might contribute to low accuracy. "
   ]
  },
  {
   "cell_type": "code",
   "execution_count": 35,
   "id": "d3b0575a",
   "metadata": {},
   "outputs": [],
   "source": [
    "countries = df[df['alcohol'].isna()]['country'].unique().tolist()"
   ]
  },
  {
   "cell_type": "code",
   "execution_count": 36,
   "id": "56fe3412",
   "metadata": {},
   "outputs": [
    {
     "name": "stderr",
     "output_type": "stream",
     "text": [
      "<ipython-input-36-ba402bbb7128>:2: UserWarning: Boolean Series key will be reindexed to match DataFrame index.\n",
      "  if len(df[df['alcohol'].isna()][df['country'] == country]) > 10:\n"
     ]
    }
   ],
   "source": [
    "for country in countries:\n",
    "    if len(df[df['alcohol'].isna()][df['country'] == country]) > 10:\n",
    "        pass\n",
    "    else:\n",
    "        row_index = df[df['country'] == country].index\n",
    "        col_index = df.columns.get_loc('alcohol')\n",
    "        alcohol_df = pd.DataFrame(df.iloc[row_index, col_index])\n",
    "        alcohol_df.interpolate(method = 'linear', limit_direction = 'both', inplace = True)\n",
    "        df.iloc[row_index, col_index] = alcohol_df"
   ]
  },
  {
   "cell_type": "code",
   "execution_count": 37,
   "id": "5e0f037d",
   "metadata": {},
   "outputs": [
    {
     "data": {
      "text/plain": [
       "country                0\n",
       "region                 0\n",
       "year                   0\n",
       "life_expect            0\n",
       "life_exp60             0\n",
       "adult_mort_rate        0\n",
       "infant_mort_rate       0\n",
       "age1-4_mort_rate       0\n",
       "alcohol               28\n",
       "bmi                   34\n",
       "age5-19thinness       34\n",
       "age5-19obesity        34\n",
       "hepatitis            569\n",
       "measles               19\n",
       "polio                 19\n",
       "diphtheria            19\n",
       "basic_water           32\n",
       "doctors             1331\n",
       "gni_capita           682\n",
       "gghe-d               100\n",
       "che_gdp              117\n",
       "une_pop               37\n",
       "une_hiv              741\n",
       "dtype: int64"
      ]
     },
     "execution_count": 37,
     "metadata": {},
     "output_type": "execute_result"
    }
   ],
   "source": [
    "df.isna().sum()"
   ]
  },
  {
   "cell_type": "markdown",
   "id": "2638481f",
   "metadata": {},
   "source": [
    "## Define a method to fill the null values with the condition that if missing values for one country are more than 10 then the null values will be retained"
   ]
  },
  {
   "cell_type": "code",
   "execution_count": 38,
   "id": "8c2a7b1b",
   "metadata": {},
   "outputs": [],
   "source": [
    "def fill_na(pred, country):\n",
    "    if len(df[df[pred].isna()][df['country'] == country]) > 10:\n",
    "        pass\n",
    "    else:\n",
    "        row_index = df[df['country'] == country].index\n",
    "        col_index = df.columns.get_loc(pred)\n",
    "        pred_df = pd.DataFrame(df.iloc[row_index, col_index])\n",
    "        pred_df.interpolate(method = 'linear', limit_direction = 'both', inplace = True)\n",
    "        df.iloc[row_index, col_index] = pred_df"
   ]
  },
  {
   "cell_type": "code",
   "execution_count": 39,
   "id": "aba34839",
   "metadata": {},
   "outputs": [
    {
     "data": {
      "text/plain": [
       "Sudan          17\n",
       "South Sudan    17\n",
       "Name: country, dtype: int64"
      ]
     },
     "execution_count": 39,
     "metadata": {},
     "output_type": "execute_result"
    }
   ],
   "source": [
    "df[df['bmi'].isna()]['country'].value_counts()"
   ]
  },
  {
   "cell_type": "code",
   "execution_count": 40,
   "id": "c153ddb2",
   "metadata": {},
   "outputs": [
    {
     "data": {
      "text/plain": [
       "Sudan          17\n",
       "South Sudan    17\n",
       "Name: country, dtype: int64"
      ]
     },
     "execution_count": 40,
     "metadata": {},
     "output_type": "execute_result"
    }
   ],
   "source": [
    "df[df['age5-19thinness'].isna()]['country'].value_counts()"
   ]
  },
  {
   "cell_type": "code",
   "execution_count": 41,
   "id": "bfa59d2a",
   "metadata": {},
   "outputs": [
    {
     "data": {
      "text/plain": [
       "Sudan          17\n",
       "South Sudan    17\n",
       "Name: country, dtype: int64"
      ]
     },
     "execution_count": 41,
     "metadata": {},
     "output_type": "execute_result"
    }
   ],
   "source": [
    "df[df['age5-19obesity'].isna()]['country'].value_counts()"
   ]
  },
  {
   "cell_type": "markdown",
   "id": "1dd788d9",
   "metadata": {},
   "source": [
    "To check if the fill_na method works well on other datasets as well."
   ]
  },
  {
   "cell_type": "code",
   "execution_count": 42,
   "id": "4008a4e3",
   "metadata": {},
   "outputs": [
    {
     "data": {
      "text/plain": [
       "Slovenia       17\n",
       "Denmark        17\n",
       "Iceland        17\n",
       "Switzerland    17\n",
       "Norway         17\n",
       "               ..\n",
       "Australia       1\n",
       "Barbados        1\n",
       "Bahamas         1\n",
       "Mozambique      1\n",
       "Panama          1\n",
       "Name: country, Length: 99, dtype: int64"
      ]
     },
     "execution_count": 42,
     "metadata": {},
     "output_type": "execute_result"
    }
   ],
   "source": [
    "df[df['hepatitis'].isna()]['country'].value_counts()"
   ]
  },
  {
   "cell_type": "code",
   "execution_count": 43,
   "id": "d849961e",
   "metadata": {},
   "outputs": [],
   "source": [
    "aus_df = pd.DataFrame(df[df['country'] == 'Australia'])"
   ]
  },
  {
   "cell_type": "code",
   "execution_count": 44,
   "id": "2cdffe56",
   "metadata": {},
   "outputs": [
    {
     "data": {
      "text/plain": [
       "[<matplotlib.lines.Line2D at 0x25e1c82a730>]"
      ]
     },
     "execution_count": 44,
     "metadata": {},
     "output_type": "execute_result"
    },
    {
     "data": {
      "image/png": "[encoded data removed]",
      "text/plain": [
       "<Figure size 432x288 with 1 Axes>"
      ]
     },
     "metadata": {},
     "output_type": "display_data"
    }
   ],
   "source": [
    "plt.plot('year', 'hepatitis', data = aus_df)"
   ]
  },
  {
   "cell_type": "code",
   "execution_count": 45,
   "id": "f0381a81",
   "metadata": {},
   "outputs": [],
   "source": [
    "aus_df['hepatitis'].interpolate(method = 'linear', limit_direction = 'both', inplace = True)"
   ]
  },
  {
   "cell_type": "code",
   "execution_count": 46,
   "id": "4a737406",
   "metadata": {},
   "outputs": [
    {
     "data": {
      "text/plain": [
       "[<matplotlib.lines.Line2D at 0x25e1c8897f0>]"
      ]
     },
     "execution_count": 46,
     "metadata": {},
     "output_type": "execute_result"
    },
    {
     "data": {
      "image/png": "[encoded data removed]",
      "text/plain": [
       "<Figure size 432x288 with 1 Axes>"
      ]
     },
     "metadata": {},
     "output_type": "display_data"
    }
   ],
   "source": [
    "plt.plot('year', 'hepatitis', data = aus_df)"
   ]
  },
  {
   "cell_type": "code",
   "execution_count": 47,
   "id": "662abf92",
   "metadata": {},
   "outputs": [],
   "source": [
    "pnm_df = pd.DataFrame(df[df['country'] == 'Panama'])"
   ]
  },
  {
   "cell_type": "code",
   "execution_count": 48,
   "id": "b06683d6",
   "metadata": {},
   "outputs": [
    {
     "data": {
      "text/plain": [
       "[<matplotlib.lines.Line2D at 0x25e1c8f20d0>]"
      ]
     },
     "execution_count": 48,
     "metadata": {},
     "output_type": "execute_result"
    },
    {
     "data": {
      "image/png": "[encoded data removed]",
      "text/plain": [
       "<Figure size 432x288 with 1 Axes>"
      ]
     },
     "metadata": {},
     "output_type": "display_data"
    }
   ],
   "source": [
    "plt.plot('year', 'hepatitis', data = pnm_df)"
   ]
  },
  {
   "cell_type": "code",
   "execution_count": 49,
   "id": "1a22fa65",
   "metadata": {},
   "outputs": [],
   "source": [
    "pnm_df['hepatitis'].interpolate(method = 'linear', limit_direction = 'both', inplace = True)"
   ]
  },
  {
   "cell_type": "code",
   "execution_count": 50,
   "id": "88c36059",
   "metadata": {},
   "outputs": [
    {
     "data": {
      "text/plain": [
       "[<matplotlib.lines.Line2D at 0x25e1c941d90>]"
      ]
     },
     "execution_count": 50,
     "metadata": {},
     "output_type": "execute_result"
    },
    {
     "data": {
      "image/png": "[encoded data removed]",
      "text/plain": [
       "<Figure size 432x288 with 1 Axes>"
      ]
     },
     "metadata": {},
     "output_type": "display_data"
    }
   ],
   "source": [
    "plt.plot('year', 'hepatitis', data = pnm_df)"
   ]
  },
  {
   "cell_type": "markdown",
   "id": "736b6f2f",
   "metadata": {},
   "source": [
    "Conclusion : The fill_na method can be used thus we will just generate a list of variables with null value and fill in the null values if condition is met"
   ]
  },
  {
   "cell_type": "code",
   "execution_count": 51,
   "id": "3625078e",
   "metadata": {},
   "outputs": [],
   "source": [
    "countries = df[df['hepatitis'].isna()]['country'].unique().tolist()"
   ]
  },
  {
   "cell_type": "code",
   "execution_count": 52,
   "id": "9967dfea",
   "metadata": {},
   "outputs": [
    {
     "name": "stderr",
     "output_type": "stream",
     "text": [
      "<ipython-input-38-771e9a623dd2>:2: UserWarning: Boolean Series key will be reindexed to match DataFrame index.\n",
      "  if len(df[df[pred].isna()][df['country'] == country]) > 10:\n"
     ]
    }
   ],
   "source": [
    "for country in countries:\n",
    "    fill_na('hepatitis', country)"
   ]
  },
  {
   "cell_type": "code",
   "execution_count": 53,
   "id": "d246b2d5",
   "metadata": {},
   "outputs": [],
   "source": [
    "null_pred = df.columns[df.isna().any()].tolist()\n",
    "null_pred.remove('alcohol')\n",
    "null_pred.remove('bmi')\n",
    "null_pred.remove('age5-19thinness')\n",
    "null_pred.remove('age5-19obesity')\n",
    "null_pred.remove('hepatitis')"
   ]
  },
  {
   "cell_type": "code",
   "execution_count": 54,
   "id": "98d5a1bf",
   "metadata": {},
   "outputs": [
    {
     "data": {
      "text/plain": [
       "['measles',\n",
       " 'polio',\n",
       " 'diphtheria',\n",
       " 'basic_water',\n",
       " 'doctors',\n",
       " 'gni_capita',\n",
       " 'gghe-d',\n",
       " 'che_gdp',\n",
       " 'une_pop',\n",
       " 'une_hiv']"
      ]
     },
     "execution_count": 54,
     "metadata": {},
     "output_type": "execute_result"
    }
   ],
   "source": [
    "null_pred"
   ]
  },
  {
   "cell_type": "code",
   "execution_count": 55,
   "id": "5fd4ac3c",
   "metadata": {},
   "outputs": [
    {
     "name": "stderr",
     "output_type": "stream",
     "text": [
      "<ipython-input-38-771e9a623dd2>:2: UserWarning: Boolean Series key will be reindexed to match DataFrame index.\n",
      "  if len(df[df[pred].isna()][df['country'] == country]) > 10:\n"
     ]
    }
   ],
   "source": [
    "for pred in null_pred:\n",
    "    countries = df[df[pred].isna()]['country'].unique().tolist()\n",
    "    for country in countries:\n",
    "        fill_na(pred, country)"
   ]
  },
  {
   "cell_type": "code",
   "execution_count": 56,
   "id": "7a3c39ec",
   "metadata": {},
   "outputs": [
    {
     "data": {
      "text/plain": [
       "country               0\n",
       "region                0\n",
       "year                  0\n",
       "life_expect           0\n",
       "life_exp60            0\n",
       "adult_mort_rate       0\n",
       "infant_mort_rate      0\n",
       "age1-4_mort_rate      0\n",
       "alcohol              28\n",
       "bmi                  34\n",
       "age5-19thinness      34\n",
       "age5-19obesity       34\n",
       "hepatitis           230\n",
       "measles              11\n",
       "polio                11\n",
       "diphtheria           11\n",
       "basic_water          11\n",
       "doctors             895\n",
       "gni_capita          107\n",
       "gghe-d               68\n",
       "che_gdp              85\n",
       "une_pop              31\n",
       "une_hiv             731\n",
       "dtype: int64"
      ]
     },
     "execution_count": 56,
     "metadata": {},
     "output_type": "execute_result"
    }
   ],
   "source": [
    "df.isna().sum()"
   ]
  },
  {
   "cell_type": "code",
   "execution_count": null,
   "id": "731fc278",
   "metadata": {},
   "outputs": [],
   "source": []
  }
 ],
 "metadata": {
  "kernelspec": {
   "display_name": "Python 3",
   "language": "python",
   "name": "python3"
  },
  "language_info": {
   "codemirror_mode": {
    "name": "ipython",
    "version": 3
   },
   "file_extension": ".py",
   "mimetype": "text/x-python",
   "name": "python",
   "nbconvert_exporter": "python",
   "pygments_lexer": "ipython3",
   "version": "3.8.8"
  }
 },
 "nbformat": 4,
 "nbformat_minor": 5
}
