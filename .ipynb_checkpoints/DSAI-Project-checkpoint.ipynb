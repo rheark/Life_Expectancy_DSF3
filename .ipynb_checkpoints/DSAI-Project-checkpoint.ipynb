{
 "cells": [
  {
   "cell_type": "code",
   "execution_count": null,
   "id": "5e760b60",
   "metadata": {},
   "outputs": [],
   "source": [
    "import pandas as pd\n",
    "import numpy as np\n",
    "import seaborn as sb\n",
    "import matplotlib.pyplot as plt\n",
    "sb.set()"
   ]
  },
  {
   "cell_type": "code",
   "execution_count": null,
   "id": "dedd6b04",
   "metadata": {},
   "outputs": [],
   "source": [
    "import pandas as pd\n",
    "import numpy as np\n",
    "import seaborn as sb\n",
    "import matplotlib.pyplot as plt\n",
    "sb.set()"
   ]
  },
  {
   "cell_type": "markdown",
   "id": "56f316f9",
   "metadata": {},
   "source": [
    "# WHO Life Expectancy Data Analysis\n",
    "\n",
    "- will include short description of all variables\n",
    "- can include some questions we have that leads to analysis\n",
    "- final question"
   ]
  },
  {
   "cell_type": "markdown",
   "id": "fb626b58",
   "metadata": {},
   "source": [
    "## Data Cleaning \n",
    "- use of interpolation to fill null data and dropping columns that has large proportion of NULL"
   ]
  },
  {
   "cell_type": "code",
   "execution_count": null,
   "id": "54f9df28",
   "metadata": {},
   "outputs": [],
   "source": [
    "df = pd.read_csv('who_life_exp.csv')\n",
    "df.head()"
   ]
  },
  {
   "cell_type": "code",
   "execution_count": null,
   "id": "1563e825",
   "metadata": {},
   "outputs": [],
   "source": [
    "df.info()"
   ]
  },
  {
   "cell_type": "code",
   "execution_count": null,
   "id": "7b867dfa",
   "metadata": {},
   "outputs": [],
   "source": [
    "df.isna().sum()"
   ]
  },
  {
   "cell_type": "markdown",
   "id": "aaa34e55",
   "metadata": {},
   "source": [
    "We decided to drop the UNESCO datasets because there are overlapping predictors with the predictors in GHO datasets. Another reason we choose GHO datasets over UNESCO datasets is because some of them variables in UNESCO has more than 70% null data, eg une_poverty, une_edu_spend, une_literacy, une_school. However, we retained une_pop and une_hiv because these two variables are not found in GHO datasets.\n"
   ]
  },
  {
   "cell_type": "code",
   "execution_count": null,
   "id": "d3b878ee",
   "metadata": {},
   "outputs": [],
   "source": [
    "df.drop(['une_infant', 'une_life', 'une_gni', 'une_poverty', 'une_edu_spend', 'une_literacy', 'une_school'], \n",
    "        axis = 1, inplace = True)"
   ]
  },
  {
   "cell_type": "markdown",
   "id": "6ef7473f",
   "metadata": {},
   "source": [
    "We decided to drop 'hospital' column because there is 96% of missing values in that column. \n",
    "We also dropped 'country code' column because 'country' column itself is enough for reference."
   ]
  },
  {
   "cell_type": "code",
   "execution_count": null,
   "id": "3c4ac335",
   "metadata": {},
   "outputs": [],
   "source": [
    "df.drop(['hospitals'], axis = 1, inplace = True)\n",
    "df.drop(['country_code'], axis = 1, inplace =True)"
   ]
  },
  {
   "cell_type": "code",
   "execution_count": null,
   "id": "de607bbc",
   "metadata": {},
   "outputs": [],
   "source": [
    "mortality = pd.DataFrame(df[['adult_mortality', 'infant_mort', 'age1-4mort']])\n",
    "mortality.head()"
   ]
  },
  {
   "cell_type": "markdown",
   "id": "862d9cb6",
   "metadata": {},
   "source": [
    "The values of adult mortality are rate per 1000 populations thus we convert it into the same format as the other two mortality rate in order to ease the EDA."
   ]
  },
  {
   "cell_type": "code",
   "execution_count": null,
   "id": "e432455c",
   "metadata": {},
   "outputs": [],
   "source": [
    "for i in range(0, 3111):\n",
    "    val = df.iloc[i]['adult_mortality']\n",
    "    adjusted_val = val/1000 \n",
    "    df.at[i, 'adult_mortality'] = adjusted_val\n"
   ]
  },
  {
   "cell_type": "code",
   "execution_count": null,
   "id": "a93d1092",
   "metadata": {},
   "outputs": [],
   "source": [
    "df.rename(columns = {'adult_mortality':'adult_mort_rate', 'infant_mort':'infant_mort_rate', 'age1-4mort':'age1-4_mort_rate'}, \n",
    "          inplace = True)\n"
   ]
  },
  {
   "cell_type": "code",
   "execution_count": null,
   "id": "e778e77a",
   "metadata": {},
   "outputs": [],
   "source": [
    "df.isna().sum()"
   ]
  },
  {
   "cell_type": "markdown",
   "id": "0d667904",
   "metadata": {},
   "source": [
    "## Checking missing values under 'alcohol' column"
   ]
  },
  {
   "cell_type": "code",
   "execution_count": null,
   "id": "e4048d00",
   "metadata": {},
   "outputs": [],
   "source": [
    "df[df['alcohol'].isna()]['country'].value_counts()"
   ]
  },
  {
   "cell_type": "code",
   "execution_count": null,
   "id": "0c326ed5",
   "metadata": {},
   "outputs": [],
   "source": [
    "sudan_df = pd.DataFrame(df[df['country'] == 'Sudan'])\n",
    "sudan_df[['year','alcohol']]"
   ]
  },
  {
   "cell_type": "code",
   "execution_count": null,
   "id": "baad89ad",
   "metadata": {},
   "outputs": [],
   "source": [
    "plt.plot('year', 'alcohol', data = sudan_df)"
   ]
  },
  {
   "cell_type": "code",
   "execution_count": null,
   "id": "1f234784",
   "metadata": {},
   "outputs": [],
   "source": [
    "sudan_df['alcohol'].interpolate(method = 'linear', limit_direction = 'both', inplace = True)"
   ]
  },
  {
   "cell_type": "code",
   "execution_count": null,
   "id": "9b37be11",
   "metadata": {},
   "outputs": [],
   "source": [
    "plt.plot('year', 'alcohol', data = sudan_df)"
   ]
  },
  {
   "cell_type": "code",
   "execution_count": null,
   "id": "4c7da5b7",
   "metadata": {},
   "outputs": [],
   "source": [
    "sudan_df = pd.DataFrame(df[df['country'] == 'Sudan'])"
   ]
  },
  {
   "cell_type": "code",
   "execution_count": null,
   "id": "d75737a0",
   "metadata": {},
   "outputs": [],
   "source": [
    "sudan_df.bfill(inplace = True)"
   ]
  },
  {
   "cell_type": "code",
   "execution_count": null,
   "id": "726d5b58",
   "metadata": {},
   "outputs": [],
   "source": [
    "plt.plot('year', 'alcohol', data = sudan_df) "
   ]
  },
  {
   "cell_type": "code",
   "execution_count": null,
   "id": "050c27f0",
   "metadata": {},
   "outputs": [],
   "source": [
    "sudan_df = pd.DataFrame(df[df['country'] == 'Sudan'])\n",
    "sudan_df.ffill(inplace = True)\n",
    "plt.plot('year', 'alcohol', data = sudan_df)"
   ]
  },
  {
   "cell_type": "code",
   "execution_count": null,
   "id": "6419a0d6",
   "metadata": {},
   "outputs": [],
   "source": [
    "canada_df = pd.DataFrame(df[df['country'] == 'Canada'])\n",
    "canada_df[['year','alcohol']]"
   ]
  },
  {
   "cell_type": "code",
   "execution_count": null,
   "id": "d3c3253f",
   "metadata": {},
   "outputs": [],
   "source": [
    "plt.plot('year', 'alcohol', data = canada_df)"
   ]
  },
  {
   "cell_type": "code",
   "execution_count": null,
   "id": "5d960351",
   "metadata": {},
   "outputs": [],
   "source": [
    "canada_df['alcohol'].interpolate(method = 'linear', limit_direction = 'both', inplace = True)"
   ]
  },
  {
   "cell_type": "code",
   "execution_count": null,
   "id": "00989d08",
   "metadata": {},
   "outputs": [],
   "source": [
    "plt.plot('year', 'alcohol', data = canada_df)"
   ]
  },
  {
   "cell_type": "code",
   "execution_count": null,
   "id": "e2a2ceca",
   "metadata": {},
   "outputs": [],
   "source": [
    "canada_df = pd.DataFrame(df[df['country'] == 'Canada'])"
   ]
  },
  {
   "cell_type": "code",
   "execution_count": null,
   "id": "52cd47c6",
   "metadata": {},
   "outputs": [],
   "source": [
    "canada_df.ffill(inplace = True)"
   ]
  },
  {
   "cell_type": "code",
   "execution_count": null,
   "id": "1e54e8ef",
   "metadata": {},
   "outputs": [],
   "source": [
    "cnd_df = pd.DataFrame(df[df['country'] == 'Canada'])\n",
    "cnd_df.bfill(inplace = True)\n",
    "plt.plot('year', 'alcohol', data = cnd_df)"
   ]
  },
  {
   "cell_type": "code",
   "execution_count": null,
   "id": "e7e17d4c",
   "metadata": {},
   "outputs": [],
   "source": [
    "cnd_df = pd.DataFrame(df[df['country'] == 'Canada'])\n",
    "cnd_df.ffill(inplace = True)\n",
    "plt.plot('year', 'alcohol', data = cnd_df)\n"
   ]
  },
  {
   "cell_type": "code",
   "execution_count": null,
   "id": "64e2f678",
   "metadata": {},
   "outputs": [],
   "source": [
    "afg_df = pd.DataFrame(df[df['country'] == 'Afghanistan'])\n",
    "afg_df[['year','alcohol']]"
   ]
  },
  {
   "cell_type": "code",
   "execution_count": null,
   "id": "39aec497",
   "metadata": {},
   "outputs": [],
   "source": [
    "plt.plot('year', 'alcohol', data = afg_df)"
   ]
  },
  {
   "cell_type": "code",
   "execution_count": null,
   "id": "c74248cb",
   "metadata": {},
   "outputs": [],
   "source": [
    "afg_df['alcohol'].interpolate(method = 'linear', limit_direction = 'both', inplace = True)"
   ]
  },
  {
   "cell_type": "code",
   "execution_count": null,
   "id": "6b789ac5",
   "metadata": {},
   "outputs": [],
   "source": [
    "plt.plot('year', 'alcohol', data = afg_df)"
   ]
  },
  {
   "cell_type": "code",
   "execution_count": null,
   "id": "c88cd65c",
   "metadata": {},
   "outputs": [],
   "source": [
    "afg_df = pd.DataFrame(df[df['country'] == 'Afghanistan'])\n",
    "afg_df.bfill(inplace = True)\n",
    "plt.plot('year', 'alcohol', data = afg_df)"
   ]
  },
  {
   "cell_type": "code",
   "execution_count": null,
   "id": "27444b8d",
   "metadata": {},
   "outputs": [],
   "source": [
    "afg_df = pd.DataFrame(df[df['country'] == 'Afghanistan'])\n",
    "afg_df.ffill(inplace = True)\n",
    "plt.plot('year', 'alcohol', data = afg_df)"
   ]
  },
  {
   "cell_type": "markdown",
   "id": "54f4bd74",
   "metadata": {},
   "source": [
    "Analysis : It is obvious that no trend can be observed from the above plot as the years given to observe the trend of the data are too few and also the missing values are usually appear to be missing in consecutive years. In addition to this, we realisedt that forward filling is not working in this case and this indicates that backward filling might also not working for other cases. Thus, interpolation with linear method and both directin will be the better method to fill in the missing values as it is able to fill in missing values which appears to be in the recent years or in the earliest year. Furthermore, if the missing values are more than 10 for a country, we tend not to fill in the null values as too few of available datas to be used as reference for filling in the missing values and might contribute to low accuracy. "
   ]
  },
  {
   "cell_type": "code",
   "execution_count": null,
   "id": "d3b0575a",
   "metadata": {},
   "outputs": [],
   "source": [
    "#ask\n",
    "countries = df[df['alcohol'].isna()]['country'].unique().tolist()"
   ]
  },
  {
   "cell_type": "code",
   "execution_count": null,
   "id": "56fe3412",
   "metadata": {},
   "outputs": [],
   "source": [
    "for country in countries:\n",
    "    if len(df[df['alcohol'].isna()][df['country'] == country]) > 10:\n",
    "        pass\n",
    "    else:\n",
    "        row_index = df[df['country'] == country].index\n",
    "        col_index = df.columns.get_loc('alcohol')\n",
    "        alcohol_df = pd.DataFrame(df.iloc[row_index, col_index])\n",
    "        alcohol_df.interpolate(method = 'linear', limit_direction = 'both', inplace = True)\n",
    "        df.iloc[row_index, col_index] = alcohol_df"
   ]
  },
  {
   "cell_type": "code",
   "execution_count": null,
   "id": "5e0f037d",
   "metadata": {},
   "outputs": [],
   "source": [
    "df.isna().sum()"
   ]
  },
  {
   "cell_type": "markdown",
   "id": "2638481f",
   "metadata": {},
   "source": [
    "## Define a method to fill the null values with the condition that if missing values for one country are more than 10 then the null values will be retained"
   ]
  },
  {
   "cell_type": "code",
   "execution_count": null,
   "id": "8c2a7b1b",
   "metadata": {},
   "outputs": [],
   "source": [
    "def fill_na(pred, country):\n",
    "    if len(df[df[pred].isna()][df['country'] == country]) > 10:\n",
    "        pass\n",
    "    else:\n",
    "        row_index = df[df['country'] == country].index\n",
    "        col_index = df.columns.get_loc(pred)\n",
    "        pred_df = pd.DataFrame(df.iloc[row_index, col_index])\n",
    "        pred_df.interpolate(method = 'linear', limit_direction = 'both', inplace = True)\n",
    "        df.iloc[row_index, col_index] = pred_df"
   ]
  },
  {
   "cell_type": "code",
   "execution_count": null,
   "id": "aba34839",
   "metadata": {},
   "outputs": [],
   "source": [
    "df[df['bmi'].isna()]['country'].value_counts()"
   ]
  },
  {
   "cell_type": "code",
   "execution_count": null,
   "id": "c153ddb2",
   "metadata": {},
   "outputs": [],
   "source": [
    "df[df['age5-19thinness'].isna()]['country'].value_counts()"
   ]
  },
  {
   "cell_type": "code",
   "execution_count": null,
   "id": "bfa59d2a",
   "metadata": {},
   "outputs": [],
   "source": [
    "df[df['age5-19obesity'].isna()]['country'].value_counts()"
   ]
  },
  {
   "cell_type": "markdown",
   "id": "1dd788d9",
   "metadata": {},
   "source": [
    "To check if the fill_na method works well on other datasets as well."
   ]
  },
  {
   "cell_type": "code",
   "execution_count": null,
   "id": "4008a4e3",
   "metadata": {},
   "outputs": [],
   "source": [
    "df[df['hepatitis'].isna()]['country'].value_counts()"
   ]
  },
  {
   "cell_type": "code",
   "execution_count": null,
   "id": "d849961e",
   "metadata": {},
   "outputs": [],
   "source": [
    "aus_df = pd.DataFrame(df[df['country'] == 'Australia'])"
   ]
  },
  {
   "cell_type": "code",
   "execution_count": null,
   "id": "2cdffe56",
   "metadata": {},
   "outputs": [],
   "source": [
    "plt.plot('year', 'hepatitis', data = aus_df)"
   ]
  },
  {
   "cell_type": "code",
   "execution_count": null,
   "id": "f0381a81",
   "metadata": {},
   "outputs": [],
   "source": [
    "aus_df['hepatitis'].interpolate(method = 'linear', limit_direction = 'both', inplace = True)"
   ]
  },
  {
   "cell_type": "code",
   "execution_count": null,
   "id": "4a737406",
   "metadata": {},
   "outputs": [],
   "source": [
    "plt.plot('year', 'hepatitis', data = aus_df)"
   ]
  },
  {
   "cell_type": "code",
   "execution_count": null,
   "id": "662abf92",
   "metadata": {},
   "outputs": [],
   "source": [
    "pnm_df = pd.DataFrame(df[df['country'] == 'Panama'])"
   ]
  },
  {
   "cell_type": "code",
   "execution_count": null,
   "id": "b06683d6",
   "metadata": {},
   "outputs": [],
   "source": [
    "plt.plot('year', 'hepatitis', data = pnm_df)"
   ]
  },
  {
   "cell_type": "code",
   "execution_count": null,
   "id": "1a22fa65",
   "metadata": {},
   "outputs": [],
   "source": [
    "pnm_df['hepatitis'].interpolate(method = 'linear', limit_direction = 'both', inplace = True)"
   ]
  },
  {
   "cell_type": "code",
   "execution_count": null,
   "id": "88c36059",
   "metadata": {},
   "outputs": [],
   "source": [
    "plt.plot('year', 'hepatitis', data = pnm_df)"
   ]
  },
  {
   "cell_type": "markdown",
   "id": "736b6f2f",
   "metadata": {},
   "source": [
    "Conclusion : The fill_na method can be used thus we will just generate a list of variables with null value and fill in the null values if condition is met"
   ]
  },
  {
   "cell_type": "code",
   "execution_count": null,
   "id": "3625078e",
   "metadata": {},
   "outputs": [],
   "source": [
    "countries = df[df['hepatitis'].isna()]['country'].unique().tolist()"
   ]
  },
  {
   "cell_type": "code",
   "execution_count": null,
   "id": "9967dfea",
   "metadata": {},
   "outputs": [],
   "source": [
    "for country in countries:\n",
    "    fill_na('hepatitis', country)"
   ]
  },
  {
   "cell_type": "code",
   "execution_count": null,
   "id": "d246b2d5",
   "metadata": {},
   "outputs": [],
   "source": [
    "null_pred = df.columns[df.isna().any()].tolist()\n",
    "null_pred.remove('alcohol')\n",
    "null_pred.remove('bmi')\n",
    "null_pred.remove('age5-19thinness')\n",
    "null_pred.remove('age5-19obesity')\n",
    "null_pred.remove('hepatitis')"
   ]
  },
  {
   "cell_type": "code",
   "execution_count": null,
   "id": "98d5a1bf",
   "metadata": {},
   "outputs": [],
   "source": [
    "null_pred"
   ]
  },
  {
   "cell_type": "code",
   "execution_count": null,
   "id": "5fd4ac3c",
   "metadata": {},
   "outputs": [],
   "source": [
    "for pred in null_pred:\n",
    "    countries = df[df[pred].isna()]['country'].unique().tolist()\n",
    "    for country in countries:\n",
    "        fill_na(pred, country)"
   ]
  },
  {
   "cell_type": "code",
   "execution_count": null,
   "id": "7a3c39ec",
   "metadata": {},
   "outputs": [],
   "source": [
    "df.isna().sum()"
   ]
  },
  {
   "cell_type": "code",
   "execution_count": null,
   "id": "731fc278",
   "metadata": {},
   "outputs": [],
   "source": []
  },
  {
   "cell_type": "code",
   "execution_count": null,
   "id": "67d28b48",
   "metadata": {},
   "outputs": [],
   "source": []
  },
  {
   "cell_type": "markdown",
   "id": "16bd0e7c",
   "metadata": {},
   "source": [
    "# Machine Learning\n",
    "1) Multiple Linear Regression\n",
    "2) RandomForestRegressor"
   ]
  },
  {
   "cell_type": "code",
   "execution_count": null,
   "id": "97636b01",
   "metadata": {},
   "outputs": [],
   "source": []
  },
  {
   "cell_type": "markdown",
   "id": "fa1fafa6",
   "metadata": {},
   "source": [
    "## Model 1: Multi-Variate Regression\n",
    "https://blog.minitab.com/en/adventures-in-statistics-2/multiple-regession-analysis-use-adjusted-r-squared-and-predicted-r-squared-to-include-the-correct-number-of-variables\n",
    "https://www.analyticsvidhya.com/blog/2021/10/guide-to-deal-with-missing-values/"
   ]
  },
  {
   "cell_type": "code",
   "execution_count": 212,
   "id": "b2ce100e",
   "metadata": {},
   "outputs": [
    {
     "data": {
      "text/html": [
       "<div>\n",
       "<style scoped>\n",
       "    .dataframe tbody tr th:only-of-type {\n",
       "        vertical-align: middle;\n",
       "    }\n",
       "\n",
       "    .dataframe tbody tr th {\n",
       "        vertical-align: top;\n",
       "    }\n",
       "\n",
       "    .dataframe thead th {\n",
       "        text-align: right;\n",
       "    }\n",
       "</style>\n",
       "<table border=\"1\" class=\"dataframe\">\n",
       "  <thead>\n",
       "    <tr style=\"text-align: right;\">\n",
       "      <th></th>\n",
       "      <th>life_expect</th>\n",
       "      <th>life_exp60</th>\n",
       "      <th>adult_mort_rate</th>\n",
       "      <th>infant_mort_rate</th>\n",
       "      <th>age1-4_mort_rate</th>\n",
       "      <th>alcohol</th>\n",
       "      <th>bmi</th>\n",
       "      <th>age5-19thinness</th>\n",
       "      <th>age5-19obesity</th>\n",
       "      <th>hepatitis</th>\n",
       "      <th>measles</th>\n",
       "      <th>polio</th>\n",
       "      <th>diphtheria</th>\n",
       "      <th>basic_water</th>\n",
       "      <th>doctors</th>\n",
       "      <th>gni_capita</th>\n",
       "      <th>gghe-d</th>\n",
       "      <th>che_gdp</th>\n",
       "      <th>une_pop</th>\n",
       "      <th>une_hiv</th>\n",
       "    </tr>\n",
       "  </thead>\n",
       "  <tbody>\n",
       "    <tr>\n",
       "      <th>4</th>\n",
       "      <td>51.52863</td>\n",
       "      <td>15.56860</td>\n",
       "      <td>0.333871</td>\n",
       "      <td>0.115700</td>\n",
       "      <td>0.020545</td>\n",
       "      <td>2.41274</td>\n",
       "      <td>22.2</td>\n",
       "      <td>10.3</td>\n",
       "      <td>0.8</td>\n",
       "      <td>43.0</td>\n",
       "      <td>43.0</td>\n",
       "      <td>18.0</td>\n",
       "      <td>47.0</td>\n",
       "      <td>45.35134</td>\n",
       "      <td>0.621</td>\n",
       "      <td>3080.0</td>\n",
       "      <td>1.68663</td>\n",
       "      <td>3.96720</td>\n",
       "      <td>18758.145</td>\n",
       "      <td>1.3</td>\n",
       "    </tr>\n",
       "    <tr>\n",
       "      <th>9</th>\n",
       "      <td>57.29004</td>\n",
       "      <td>16.48146</td>\n",
       "      <td>0.281049</td>\n",
       "      <td>0.084800</td>\n",
       "      <td>0.013310</td>\n",
       "      <td>6.11778</td>\n",
       "      <td>22.7</td>\n",
       "      <td>9.4</td>\n",
       "      <td>1.3</td>\n",
       "      <td>47.0</td>\n",
       "      <td>46.0</td>\n",
       "      <td>36.0</td>\n",
       "      <td>50.0</td>\n",
       "      <td>49.57516</td>\n",
       "      <td>1.313</td>\n",
       "      <td>6200.0</td>\n",
       "      <td>2.60046</td>\n",
       "      <td>3.84261</td>\n",
       "      <td>22514.281</td>\n",
       "      <td>1.7</td>\n",
       "    </tr>\n",
       "    <tr>\n",
       "      <th>17</th>\n",
       "      <td>51.43743</td>\n",
       "      <td>15.71862</td>\n",
       "      <td>0.369974</td>\n",
       "      <td>0.103510</td>\n",
       "      <td>0.017145</td>\n",
       "      <td>7.17131</td>\n",
       "      <td>20.6</td>\n",
       "      <td>9.1</td>\n",
       "      <td>0.3</td>\n",
       "      <td>83.0</td>\n",
       "      <td>72.0</td>\n",
       "      <td>71.0</td>\n",
       "      <td>80.0</td>\n",
       "      <td>50.66312</td>\n",
       "      <td>0.280</td>\n",
       "      <td>580.0</td>\n",
       "      <td>1.46507</td>\n",
       "      <td>6.17697</td>\n",
       "      <td>6378.871</td>\n",
       "      <td>3.3</td>\n",
       "    </tr>\n",
       "    <tr>\n",
       "      <th>18</th>\n",
       "      <td>52.03133</td>\n",
       "      <td>15.77446</td>\n",
       "      <td>0.365476</td>\n",
       "      <td>0.100855</td>\n",
       "      <td>0.016470</td>\n",
       "      <td>6.62197</td>\n",
       "      <td>20.7</td>\n",
       "      <td>8.9</td>\n",
       "      <td>0.4</td>\n",
       "      <td>83.0</td>\n",
       "      <td>73.0</td>\n",
       "      <td>72.0</td>\n",
       "      <td>81.0</td>\n",
       "      <td>51.23447</td>\n",
       "      <td>0.280</td>\n",
       "      <td>580.0</td>\n",
       "      <td>1.69244</td>\n",
       "      <td>6.40484</td>\n",
       "      <td>6525.545</td>\n",
       "      <td>3.1</td>\n",
       "    </tr>\n",
       "    <tr>\n",
       "      <th>19</th>\n",
       "      <td>52.27760</td>\n",
       "      <td>15.80661</td>\n",
       "      <td>0.369024</td>\n",
       "      <td>0.097855</td>\n",
       "      <td>0.015735</td>\n",
       "      <td>6.51436</td>\n",
       "      <td>20.8</td>\n",
       "      <td>8.8</td>\n",
       "      <td>0.4</td>\n",
       "      <td>83.0</td>\n",
       "      <td>75.0</td>\n",
       "      <td>74.0</td>\n",
       "      <td>81.0</td>\n",
       "      <td>51.80933</td>\n",
       "      <td>0.280</td>\n",
       "      <td>590.0</td>\n",
       "      <td>1.53550</td>\n",
       "      <td>6.47216</td>\n",
       "      <td>6704.113</td>\n",
       "      <td>2.8</td>\n",
       "    </tr>\n",
       "    <tr>\n",
       "      <th>...</th>\n",
       "      <td>...</td>\n",
       "      <td>...</td>\n",
       "      <td>...</td>\n",
       "      <td>...</td>\n",
       "      <td>...</td>\n",
       "      <td>...</td>\n",
       "      <td>...</td>\n",
       "      <td>...</td>\n",
       "      <td>...</td>\n",
       "      <td>...</td>\n",
       "      <td>...</td>\n",
       "      <td>...</td>\n",
       "      <td>...</td>\n",
       "      <td>...</td>\n",
       "      <td>...</td>\n",
       "      <td>...</td>\n",
       "      <td>...</td>\n",
       "      <td>...</td>\n",
       "      <td>...</td>\n",
       "      <td>...</td>\n",
       "    </tr>\n",
       "    <tr>\n",
       "      <th>3106</th>\n",
       "      <td>64.49448</td>\n",
       "      <td>16.57977</td>\n",
       "      <td>0.209267</td>\n",
       "      <td>0.055840</td>\n",
       "      <td>0.004845</td>\n",
       "      <td>6.29833</td>\n",
       "      <td>22.4</td>\n",
       "      <td>9.2</td>\n",
       "      <td>3.1</td>\n",
       "      <td>79.0</td>\n",
       "      <td>72.0</td>\n",
       "      <td>78.0</td>\n",
       "      <td>79.0</td>\n",
       "      <td>72.07056</td>\n",
       "      <td>1.800</td>\n",
       "      <td>4170.0</td>\n",
       "      <td>0.43670</td>\n",
       "      <td>2.07638</td>\n",
       "      <td>6444.530</td>\n",
       "      <td>0.3</td>\n",
       "    </tr>\n",
       "    <tr>\n",
       "      <th>3107</th>\n",
       "      <td>64.79716</td>\n",
       "      <td>16.64219</td>\n",
       "      <td>0.205146</td>\n",
       "      <td>0.055350</td>\n",
       "      <td>0.004600</td>\n",
       "      <td>6.42186</td>\n",
       "      <td>22.6</td>\n",
       "      <td>9.1</td>\n",
       "      <td>3.5</td>\n",
       "      <td>87.0</td>\n",
       "      <td>82.0</td>\n",
       "      <td>86.0</td>\n",
       "      <td>87.0</td>\n",
       "      <td>74.05544</td>\n",
       "      <td>4.493</td>\n",
       "      <td>4570.0</td>\n",
       "      <td>0.71266</td>\n",
       "      <td>2.39985</td>\n",
       "      <td>6541.304</td>\n",
       "      <td>0.3</td>\n",
       "    </tr>\n",
       "    <tr>\n",
       "      <th>3108</th>\n",
       "      <td>65.10757</td>\n",
       "      <td>16.70787</td>\n",
       "      <td>0.200820</td>\n",
       "      <td>0.054585</td>\n",
       "      <td>0.004405</td>\n",
       "      <td>6.64447</td>\n",
       "      <td>22.7</td>\n",
       "      <td>9.0</td>\n",
       "      <td>3.8</td>\n",
       "      <td>88.0</td>\n",
       "      <td>87.0</td>\n",
       "      <td>88.0</td>\n",
       "      <td>88.0</td>\n",
       "      <td>76.02924</td>\n",
       "      <td>4.949</td>\n",
       "      <td>4570.0</td>\n",
       "      <td>0.68373</td>\n",
       "      <td>2.29846</td>\n",
       "      <td>6639.756</td>\n",
       "      <td>0.3</td>\n",
       "    </tr>\n",
       "    <tr>\n",
       "      <th>3109</th>\n",
       "      <td>65.45008</td>\n",
       "      <td>16.77074</td>\n",
       "      <td>0.196661</td>\n",
       "      <td>0.053465</td>\n",
       "      <td>0.004160</td>\n",
       "      <td>6.83826</td>\n",
       "      <td>22.8</td>\n",
       "      <td>8.9</td>\n",
       "      <td>4.2</td>\n",
       "      <td>81.0</td>\n",
       "      <td>83.0</td>\n",
       "      <td>80.0</td>\n",
       "      <td>81.0</td>\n",
       "      <td>77.99142</td>\n",
       "      <td>4.949</td>\n",
       "      <td>4570.0</td>\n",
       "      <td>0.86391</td>\n",
       "      <td>2.45366</td>\n",
       "      <td>6741.164</td>\n",
       "      <td>0.3</td>\n",
       "    </tr>\n",
       "    <tr>\n",
       "      <th>3110</th>\n",
       "      <td>65.79089</td>\n",
       "      <td>16.83024</td>\n",
       "      <td>0.192794</td>\n",
       "      <td>0.051895</td>\n",
       "      <td>0.003990</td>\n",
       "      <td>7.11148</td>\n",
       "      <td>22.9</td>\n",
       "      <td>8.9</td>\n",
       "      <td>4.7</td>\n",
       "      <td>66.0</td>\n",
       "      <td>66.0</td>\n",
       "      <td>66.0</td>\n",
       "      <td>66.0</td>\n",
       "      <td>79.94190</td>\n",
       "      <td>4.949</td>\n",
       "      <td>4570.0</td>\n",
       "      <td>0.76495</td>\n",
       "      <td>2.36087</td>\n",
       "      <td>6845.846</td>\n",
       "      <td>0.3</td>\n",
       "    </tr>\n",
       "  </tbody>\n",
       "</table>\n",
       "<p>1455 rows × 20 columns</p>\n",
       "</div>"
      ],
      "text/plain": [
       "      life_expect  life_exp60  adult_mort_rate  infant_mort_rate  \\\n",
       "4        51.52863    15.56860         0.333871          0.115700   \n",
       "9        57.29004    16.48146         0.281049          0.084800   \n",
       "17       51.43743    15.71862         0.369974          0.103510   \n",
       "18       52.03133    15.77446         0.365476          0.100855   \n",
       "19       52.27760    15.80661         0.369024          0.097855   \n",
       "...           ...         ...              ...               ...   \n",
       "3106     64.49448    16.57977         0.209267          0.055840   \n",
       "3107     64.79716    16.64219         0.205146          0.055350   \n",
       "3108     65.10757    16.70787         0.200820          0.054585   \n",
       "3109     65.45008    16.77074         0.196661          0.053465   \n",
       "3110     65.79089    16.83024         0.192794          0.051895   \n",
       "\n",
       "      age1-4_mort_rate  alcohol   bmi  age5-19thinness  age5-19obesity  \\\n",
       "4             0.020545  2.41274  22.2             10.3             0.8   \n",
       "9             0.013310  6.11778  22.7              9.4             1.3   \n",
       "17            0.017145  7.17131  20.6              9.1             0.3   \n",
       "18            0.016470  6.62197  20.7              8.9             0.4   \n",
       "19            0.015735  6.51436  20.8              8.8             0.4   \n",
       "...                ...      ...   ...              ...             ...   \n",
       "3106          0.004845  6.29833  22.4              9.2             3.1   \n",
       "3107          0.004600  6.42186  22.6              9.1             3.5   \n",
       "3108          0.004405  6.64447  22.7              9.0             3.8   \n",
       "3109          0.004160  6.83826  22.8              8.9             4.2   \n",
       "3110          0.003990  7.11148  22.9              8.9             4.7   \n",
       "\n",
       "      hepatitis  measles  polio  diphtheria  basic_water  doctors  gni_capita  \\\n",
       "4          43.0     43.0   18.0        47.0     45.35134    0.621      3080.0   \n",
       "9          47.0     46.0   36.0        50.0     49.57516    1.313      6200.0   \n",
       "17         83.0     72.0   71.0        80.0     50.66312    0.280       580.0   \n",
       "18         83.0     73.0   72.0        81.0     51.23447    0.280       580.0   \n",
       "19         83.0     75.0   74.0        81.0     51.80933    0.280       590.0   \n",
       "...         ...      ...    ...         ...          ...      ...         ...   \n",
       "3106       79.0     72.0   78.0        79.0     72.07056    1.800      4170.0   \n",
       "3107       87.0     82.0   86.0        87.0     74.05544    4.493      4570.0   \n",
       "3108       88.0     87.0   88.0        88.0     76.02924    4.949      4570.0   \n",
       "3109       81.0     83.0   80.0        81.0     77.99142    4.949      4570.0   \n",
       "3110       66.0     66.0   66.0        66.0     79.94190    4.949      4570.0   \n",
       "\n",
       "       gghe-d  che_gdp    une_pop  une_hiv  \n",
       "4     1.68663  3.96720  18758.145      1.3  \n",
       "9     2.60046  3.84261  22514.281      1.7  \n",
       "17    1.46507  6.17697   6378.871      3.3  \n",
       "18    1.69244  6.40484   6525.545      3.1  \n",
       "19    1.53550  6.47216   6704.113      2.8  \n",
       "...       ...      ...        ...      ...  \n",
       "3106  0.43670  2.07638   6444.530      0.3  \n",
       "3107  0.71266  2.39985   6541.304      0.3  \n",
       "3108  0.68373  2.29846   6639.756      0.3  \n",
       "3109  0.86391  2.45366   6741.164      0.3  \n",
       "3110  0.76495  2.36087   6845.846      0.3  \n",
       "\n",
       "[1455 rows x 20 columns]"
      ]
     },
     "execution_count": 212,
     "metadata": {},
     "output_type": "execute_result"
    }
   ],
   "source": [
    "reg_df = pd.DataFrame(df.drop([ 'year', 'country', 'region'], axis=1))\n",
    "\n",
    "#1)dropping the whole row if any null - ensure same number of data for each predictor\n",
    "clean_reg_df = reg_df.dropna()\n",
    "clean_reg_df\n",
    "\n",
    "   \n",
    "#if do it for each pred, will still have null when combining them into one dataframe"
   ]
  },
  {
   "cell_type": "code",
   "execution_count": 213,
   "id": "aa65d566",
   "metadata": {},
   "outputs": [
    {
     "name": "stdout",
     "output_type": "stream",
     "text": [
      "Train Set : (1091, 1) (1091, 19)\n",
      "Test Set  : (364, 1) (364, 19)\n"
     ]
    }
   ],
   "source": [
    "#creating Train and Test datasets for Regression - removing any rows with remaining null(ensure same number of data for all predictors and response variable)\n",
    "from sklearn.model_selection import train_test_split\n",
    "\n",
    "y = pd.DataFrame(clean_reg_df['life_expect'])\n",
    "X = pd.DataFrame(clean_reg_df.drop(['life_expect'], axis=1))\n",
    "\n",
    "X_train, X_test, y_train, y_test = train_test_split(X, y, test_size = 0.25)\n",
    "\n",
    "print(\"Train Set :\", y_train.shape, X_train.shape)\n",
    "print(\"Test Set  :\", y_test.shape, X_test.shape)"
   ]
  },
  {
   "cell_type": "code",
   "execution_count": 214,
   "id": "73069221",
   "metadata": {},
   "outputs": [
    {
     "name": "stdout",
     "output_type": "stream",
     "text": [
      "Intercept of Regression: b =  [59.88644375]\n",
      "\n"
     ]
    },
    {
     "data": {
      "text/html": [
       "<div>\n",
       "<style scoped>\n",
       "    .dataframe tbody tr th:only-of-type {\n",
       "        vertical-align: middle;\n",
       "    }\n",
       "\n",
       "    .dataframe tbody tr th {\n",
       "        vertical-align: top;\n",
       "    }\n",
       "\n",
       "    .dataframe thead th {\n",
       "        text-align: right;\n",
       "    }\n",
       "</style>\n",
       "<table border=\"1\" class=\"dataframe\">\n",
       "  <thead>\n",
       "    <tr style=\"text-align: right;\">\n",
       "      <th></th>\n",
       "      <th>Predictors</th>\n",
       "      <th>Coefficients</th>\n",
       "    </tr>\n",
       "  </thead>\n",
       "  <tbody>\n",
       "    <tr>\n",
       "      <th>0</th>\n",
       "      <td>life_exp60</td>\n",
       "      <td>8.205657e-01</td>\n",
       "    </tr>\n",
       "    <tr>\n",
       "      <th>5</th>\n",
       "      <td>bmi</td>\n",
       "      <td>5.654739e-02</td>\n",
       "    </tr>\n",
       "    <tr>\n",
       "      <th>4</th>\n",
       "      <td>alcohol</td>\n",
       "      <td>2.306845e-02</td>\n",
       "    </tr>\n",
       "    <tr>\n",
       "      <th>15</th>\n",
       "      <td>gghe-d</td>\n",
       "      <td>1.972729e-02</td>\n",
       "    </tr>\n",
       "    <tr>\n",
       "      <th>16</th>\n",
       "      <td>che_gdp</td>\n",
       "      <td>1.797433e-02</td>\n",
       "    </tr>\n",
       "    <tr>\n",
       "      <th>13</th>\n",
       "      <td>doctors</td>\n",
       "      <td>1.621240e-02</td>\n",
       "    </tr>\n",
       "    <tr>\n",
       "      <th>6</th>\n",
       "      <td>age5-19thinness</td>\n",
       "      <td>1.532095e-02</td>\n",
       "    </tr>\n",
       "    <tr>\n",
       "      <th>12</th>\n",
       "      <td>basic_water</td>\n",
       "      <td>1.362290e-02</td>\n",
       "    </tr>\n",
       "    <tr>\n",
       "      <th>10</th>\n",
       "      <td>polio</td>\n",
       "      <td>9.810525e-03</td>\n",
       "    </tr>\n",
       "    <tr>\n",
       "      <th>9</th>\n",
       "      <td>measles</td>\n",
       "      <td>2.279366e-03</td>\n",
       "    </tr>\n",
       "    <tr>\n",
       "      <th>14</th>\n",
       "      <td>gni_capita</td>\n",
       "      <td>6.498611e-06</td>\n",
       "    </tr>\n",
       "    <tr>\n",
       "      <th>17</th>\n",
       "      <td>une_pop</td>\n",
       "      <td>-7.325125e-07</td>\n",
       "    </tr>\n",
       "    <tr>\n",
       "      <th>8</th>\n",
       "      <td>hepatitis</td>\n",
       "      <td>-3.015542e-04</td>\n",
       "    </tr>\n",
       "    <tr>\n",
       "      <th>7</th>\n",
       "      <td>age5-19obesity</td>\n",
       "      <td>-7.300529e-03</td>\n",
       "    </tr>\n",
       "    <tr>\n",
       "      <th>11</th>\n",
       "      <td>diphtheria</td>\n",
       "      <td>-1.308919e-02</td>\n",
       "    </tr>\n",
       "    <tr>\n",
       "      <th>18</th>\n",
       "      <td>une_hiv</td>\n",
       "      <td>-2.822578e-02</td>\n",
       "    </tr>\n",
       "    <tr>\n",
       "      <th>1</th>\n",
       "      <td>adult_mort_rate</td>\n",
       "      <td>-3.296210e+01</td>\n",
       "    </tr>\n",
       "    <tr>\n",
       "      <th>2</th>\n",
       "      <td>infant_mort_rate</td>\n",
       "      <td>-6.188845e+01</td>\n",
       "    </tr>\n",
       "    <tr>\n",
       "      <th>3</th>\n",
       "      <td>age1-4_mort_rate</td>\n",
       "      <td>-2.591127e+02</td>\n",
       "    </tr>\n",
       "  </tbody>\n",
       "</table>\n",
       "</div>"
      ],
      "text/plain": [
       "          Predictors  Coefficients\n",
       "0         life_exp60  8.205657e-01\n",
       "5                bmi  5.654739e-02\n",
       "4            alcohol  2.306845e-02\n",
       "15            gghe-d  1.972729e-02\n",
       "16           che_gdp  1.797433e-02\n",
       "13           doctors  1.621240e-02\n",
       "6    age5-19thinness  1.532095e-02\n",
       "12       basic_water  1.362290e-02\n",
       "10             polio  9.810525e-03\n",
       "9            measles  2.279366e-03\n",
       "14        gni_capita  6.498611e-06\n",
       "17           une_pop -7.325125e-07\n",
       "8          hepatitis -3.015542e-04\n",
       "7     age5-19obesity -7.300529e-03\n",
       "11        diphtheria -1.308919e-02\n",
       "18           une_hiv -2.822578e-02\n",
       "1    adult_mort_rate -3.296210e+01\n",
       "2   infant_mort_rate -6.188845e+01\n",
       "3   age1-4_mort_rate -2.591127e+02"
      ]
     },
     "execution_count": 214,
     "metadata": {},
     "output_type": "execute_result"
    }
   ],
   "source": [
    "from sklearn.linear_model import LinearRegression\n",
    "from sklearn.model_selection import GridSearchCV\n",
    "\n",
    "linreg = LinearRegression()\n",
    "linreg.fit(X_train, y_train) \n",
    "\n",
    "print('Intercept of Regression: b = ', linreg.intercept_)\n",
    "print()\n",
    "\n",
    "# Print the Coefficients against Predictors\n",
    "pd.DataFrame(list(zip(X_train.columns, linreg.coef_[0])), columns = [\"Predictors\", \"Coefficients\"]).sort_values(by=['Coefficients'], ascending=False)\n",
    "\n"
   ]
  },
  {
   "cell_type": "markdown",
   "id": "40bb900b",
   "metadata": {},
   "source": [
    "Insights:\n",
    "Obvious that life_exp60 will be most highly correlated with life_expect (maybe EDA will show the same result also need check) + both have similar derivations"
   ]
  },
  {
   "cell_type": "code",
   "execution_count": 215,
   "id": "8648eaad",
   "metadata": {},
   "outputs": [
    {
     "data": {
      "image/png": "[encoded data removed]",
      "text/plain": [
       "<Figure size 1728x864 with 2 Axes>"
      ]
     },
     "metadata": {},
     "output_type": "display_data"
    }
   ],
   "source": [
    "y_train_pred = linreg.predict(X_train)\n",
    "y_test_pred = linreg.predict(X_test)\n",
    "\n",
    "# Plot the Predictions vs the True values\n",
    "f, axes = plt.subplots(1, 2, figsize=(24, 12))\n",
    "axes[0].scatter(y_train, y_train_pred, color = \"blue\")\n",
    "axes[0].plot(y_train, y_train, 'r-', linewidth = 3)\n",
    "axes[0].set_xlabel(\"True values of the Response Variable (Train)\")\n",
    "axes[0].set_ylabel(\"Predicted values of the Response Variable (Train)\")\n",
    "axes[1].scatter(y_test, y_test_pred, color = \"green\")\n",
    "axes[1].plot(y_test, y_test, 'r-', linewidth = 3)\n",
    "axes[1].set_xlabel(\"True values of the Response Variable (Test)\")\n",
    "axes[1].set_ylabel(\"Predicted values of the Response Variable (Test)\")\n",
    "plt.show()\n",
    "\n",
    "#overfitting??"
   ]
  },
  {
   "cell_type": "code",
   "execution_count": 216,
   "id": "8342a729",
   "metadata": {},
   "outputs": [
    {
     "name": "stdout",
     "output_type": "stream",
     "text": [
      "Goodness of Fit of Model \tTrain Dataset\n",
      "Explained Variance (R^2) \t: 0.9981983674418131\n",
      "Mean Squared Error (MSE) \t: 0.15012458977355353\n",
      "\n",
      "Goodness of Fit of Model \tTest Dataset\n",
      "Explained Variance (R^2) \t: 0.9984453637426501\n",
      "Mean Squared Error (MSE) \t: 0.14018820025675624\n",
      "\n"
     ]
    }
   ],
   "source": [
    "from sklearn.metrics import mean_squared_error\n",
    "\n",
    "\n",
    "print(\"Goodness of Fit of Model \\tTrain Dataset\")\n",
    "print(\"Explained Variance (R^2) \\t:\", linreg.score(X_train, y_train))\n",
    "print(\"Mean Squared Error (MSE) \\t:\", mean_squared_error(y_train, y_train_pred))\n",
    "print()\n",
    "\n",
    "print(\"Goodness of Fit of Model \\tTest Dataset\")\n",
    "print(\"Explained Variance (R^2) \\t:\", linreg.score(X_test, y_test))\n",
    "print(\"Mean Squared Error (MSE) \\t:\", mean_squared_error(y_test, y_test_pred))\n",
    "print()"
   ]
  },
  {
   "cell_type": "code",
   "execution_count": 233,
   "id": "7112979b",
   "metadata": {},
   "outputs": [
    {
     "name": "stdout",
     "output_type": "stream",
     "text": [
      "Train Set : (1091, 1) (1091, 3)\n",
      "Test Set  : (364, 1) (364, 3)\n",
      "\n",
      "Intercept of Regression: b =  [-3.76012306]\n",
      "\n"
     ]
    },
    {
     "data": {
      "text/html": [
       "<div>\n",
       "<style scoped>\n",
       "    .dataframe tbody tr th:only-of-type {\n",
       "        vertical-align: middle;\n",
       "    }\n",
       "\n",
       "    .dataframe tbody tr th {\n",
       "        vertical-align: top;\n",
       "    }\n",
       "\n",
       "    .dataframe thead th {\n",
       "        text-align: right;\n",
       "    }\n",
       "</style>\n",
       "<table border=\"1\" class=\"dataframe\">\n",
       "  <thead>\n",
       "    <tr style=\"text-align: right;\">\n",
       "      <th></th>\n",
       "      <th>Predictors</th>\n",
       "      <th>Coefficients</th>\n",
       "    </tr>\n",
       "  </thead>\n",
       "  <tbody>\n",
       "    <tr>\n",
       "      <th>0</th>\n",
       "      <td>life_exp60</td>\n",
       "      <td>2.276517</td>\n",
       "    </tr>\n",
       "    <tr>\n",
       "      <th>1</th>\n",
       "      <td>bmi</td>\n",
       "      <td>1.199387</td>\n",
       "    </tr>\n",
       "    <tr>\n",
       "      <th>2</th>\n",
       "      <td>alcohol</td>\n",
       "      <td>-0.002508</td>\n",
       "    </tr>\n",
       "  </tbody>\n",
       "</table>\n",
       "</div>"
      ],
      "text/plain": [
       "   Predictors  Coefficients\n",
       "0  life_exp60      2.276517\n",
       "1         bmi      1.199387\n",
       "2     alcohol     -0.002508"
      ]
     },
     "execution_count": 233,
     "metadata": {},
     "output_type": "execute_result"
    }
   ],
   "source": [
    "#trying out with just top 3 values\n",
    "\n",
    "y = pd.DataFrame(clean_reg_df['life_expect'])\n",
    "X = pd.DataFrame(clean_reg_df[['life_exp60', 'bmi', 'alcohol']])\n",
    "\n",
    "X_train, X_test, y_train, y_test = train_test_split(X, y, test_size = 0.25)\n",
    "\n",
    "print(\"Train Set :\", y_train.shape, X_train.shape)\n",
    "print(\"Test Set  :\", y_test.shape, X_test.shape)\n",
    "\n",
    "\n",
    "linreg = LinearRegression()  \n",
    "linreg.fit(X_train, y_train) \n",
    "\n",
    "print()\n",
    "print('Intercept of Regression: b = ', linreg.intercept_)\n",
    "print()\n",
    "\n",
    "# Print the Coefficients against Predictors\n",
    "pd.DataFrame(list(zip(X_train.columns, linreg.coef_[0])), columns = [\"Predictors\", \"Coefficients\"]).sort_values(by=['Coefficients'], ascending=False)"
   ]
  },
  {
   "cell_type": "code",
   "execution_count": 234,
   "id": "917e73f5",
   "metadata": {},
   "outputs": [
    {
     "data": {
      "image/png": "[encoded data removed]",
      "text/plain": [
       "<Figure size 1728x864 with 2 Axes>"
      ]
     },
     "metadata": {},
     "output_type": "display_data"
    }
   ],
   "source": [
    "y_train_pred = linreg.predict(X_train)\n",
    "y_test_pred = linreg.predict(X_test)\n",
    "\n",
    "# Plot the Predictions vs the True values\n",
    "f, axes = plt.subplots(1, 2, figsize=(24, 12))\n",
    "axes[0].scatter(y_train, y_train_pred, color = \"blue\")\n",
    "axes[0].plot(y_train, y_train, 'r-', linewidth = 3)\n",
    "axes[0].set_xlabel(\"True values of the Response Variable (Train)\")\n",
    "axes[0].set_ylabel(\"Predicted values of the Response Variable (Train)\")\n",
    "axes[1].scatter(y_test, y_test_pred, color = \"green\")\n",
    "axes[1].plot(y_test, y_test, 'r-', linewidth = 3)\n",
    "axes[1].set_xlabel(\"True values of the Response Variable (Test)\")\n",
    "axes[1].set_ylabel(\"Predicted values of the Response Variable (Test)\")\n",
    "plt.show()"
   ]
  },
  {
   "cell_type": "code",
   "execution_count": 235,
   "id": "b052f6c2",
   "metadata": {},
   "outputs": [
    {
     "name": "stdout",
     "output_type": "stream",
     "text": [
      "Goodness of Fit of Model \tTrain Dataset\n",
      "Explained Variance (R^2) \t: 0.8385263827904578\n",
      "Mean Squared Error (MSE) \t: 13.818855509919436\n",
      "\n",
      "Goodness of Fit of Model \tTest Dataset\n",
      "Explained Variance (R^2) \t: 0.8294705744107254\n",
      "Mean Squared Error (MSE) \t: 14.348780506357977\n",
      "\n"
     ]
    }
   ],
   "source": [
    "print(\"Goodness of Fit of Model \\tTrain Dataset\")\n",
    "print(\"Explained Variance (R^2) \\t:\", linreg.score(X_train, y_train))\n",
    "print(\"Mean Squared Error (MSE) \\t:\", mean_squared_error(y_train, y_train_pred))\n",
    "print()\n",
    "\n",
    "print(\"Goodness of Fit of Model \\tTest Dataset\")\n",
    "print(\"Explained Variance (R^2) \\t:\", linreg.score(X_test, y_test))\n",
    "print(\"Mean Squared Error (MSE) \\t:\", mean_squared_error(y_test, y_test_pred))\n",
    "print()"
   ]
  },
  {
   "cell_type": "markdown",
   "id": "9cd0fe7d",
   "metadata": {},
   "source": [
    "## Model 2: RandomForestRegressor"
   ]
  },
  {
   "cell_type": "code",
   "execution_count": 228,
   "id": "edcb4ccd",
   "metadata": {},
   "outputs": [
    {
     "name": "stdout",
     "output_type": "stream",
     "text": [
      "Train Set : (1091, 1) (1091, 19)\n",
      "Test Set  : (364, 1) (364, 19)\n"
     ]
    }
   ],
   "source": [
    "y = pd.DataFrame(clean_reg_df['life_expect'])\n",
    "X = pd.DataFrame(clean_reg_df.drop(['life_expect'], axis=1))\n",
    "\n",
    "\n",
    "X_train, X_test, y_train, y_test = train_test_split(X, y, test_size = 0.25)\n",
    "\n",
    "print(\"Train Set :\", y_train.shape, X_train.shape)\n",
    "print(\"Test Set  :\", y_test.shape, X_test.shape)\n",
    "\n"
   ]
  },
  {
   "cell_type": "code",
   "execution_count": 229,
   "id": "29234b1c",
   "metadata": {},
   "outputs": [
    {
     "name": "stdout",
     "output_type": "stream",
     "text": [
      "RandomForestRegressor(max_depth=10, n_estimators=500)\n",
      "0.9968047192750155\n"
     ]
    }
   ],
   "source": [
    "from sklearn.ensemble import RandomForestRegressor \n",
    "from sklearn.model_selection import GridSearchCV\n",
    "\n",
    "estimator = RandomForestRegressor() \n",
    "param_grid = {'n_estimators': np.arange(100,1001,100),  \n",
    "              'max_depth': np.arange(2, 11)}   \n",
    "\n",
    "grid = GridSearchCV(estimator, param_grid, cv=3, scoring='r2')\n",
    "\n",
    "grid.fit(X_train, y_train['life_expect'].ravel())\n",
    "\n",
    "print(grid.best_estimator_)\n",
    "print(np.abs(grid.best_score_))\n",
    "\n",
    "##why does the n_estimator keep changing?? i thought supposed to get the best one"
   ]
  },
  {
   "cell_type": "code",
   "execution_count": 230,
   "id": "7d155d29",
   "metadata": {},
   "outputs": [
    {
     "data": {
      "text/plain": [
       "RandomForestRegressor(max_depth=10, n_estimators=600)"
      ]
     },
     "execution_count": 230,
     "metadata": {},
     "output_type": "execute_result"
    }
   ],
   "source": [
    "#using best hyperparameter\n",
    "\n",
    "from sklearn.model_selection import train_test_split\n",
    "\n",
    "y = pd.DataFrame(clean_reg_df['life_expect'])\n",
    "X = pd.DataFrame(clean_reg_df.drop('life_expect', axis = 1))\n",
    "\n",
    "X_train, X_test, y_train, y_test = train_test_split(X, y, test_size = 0.3)\n",
    "\n",
    "from sklearn.ensemble import RandomForestRegressor\n",
    "\n",
    "rfr = RandomForestRegressor(n_estimators = 600,  max_depth = 10)     \n",
    "\n",
    "# Fit Random Forest on Train Data\n",
    "rfr.fit(X_train, y_train['life_expect'].ravel())\n"
   ]
  },
  {
   "cell_type": "code",
   "execution_count": 231,
   "id": "47d3caa8",
   "metadata": {},
   "outputs": [
    {
     "data": {
      "image/png": "[encoded data removed]",
      "text/plain": [
       "<Figure size 1728x864 with 2 Axes>"
      ]
     },
     "metadata": {},
     "output_type": "display_data"
    }
   ],
   "source": [
    "y_train_pred = rfr.predict(X_train)\n",
    "y_test_pred = rfr.predict(X_test)\n",
    "\n",
    "# Plot the Predictions vs the True values\n",
    "f, axes = plt.subplots(1, 2, figsize=(24, 12))\n",
    "axes[0].scatter(y_train, y_train_pred, color = \"blue\")\n",
    "axes[0].plot(y_train, y_train, 'r-', linewidth = 3)\n",
    "axes[0].set_xlabel(\"True values of the Response Variable (Train)\")\n",
    "axes[0].set_ylabel(\"Predicted values of the Response Variable (Train)\")\n",
    "axes[1].scatter(y_test, y_test_pred, color = \"green\")\n",
    "axes[1].plot(y_test, y_test, 'r-', linewidth = 3)\n",
    "axes[1].set_xlabel(\"True values of the Response Variable (Test)\")\n",
    "axes[1].set_ylabel(\"Predicted values of the Response Variable (Test)\")\n",
    "plt.show()"
   ]
  },
  {
   "cell_type": "code",
   "execution_count": 232,
   "id": "a24fb8ec",
   "metadata": {},
   "outputs": [
    {
     "name": "stdout",
     "output_type": "stream",
     "text": [
      "Goodness of Fit of Model \tTrain Dataset\n",
      "Explained Variance (R^2) \t: 0.9996896748992999\n",
      "Mean Squared Error (MSE) \t: 0.026728206113916173\n",
      "\n",
      "Goodness of Fit of Model \tTest Dataset\n",
      "Explained Variance (R^2) \t: 0.9976467681152067\n",
      "Mean Squared Error (MSE) \t: 0.19512619386925767\n",
      "\n"
     ]
    }
   ],
   "source": [
    "print(\"Goodness of Fit of Model \\tTrain Dataset\")\n",
    "print(\"Explained Variance (R^2) \\t:\", rfr.score(X_train, y_train))\n",
    "print(\"Mean Squared Error (MSE) \\t:\", mean_squared_error(y_train, y_train_pred))\n",
    "print()\n",
    "\n",
    "print(\"Goodness of Fit of Model \\tTest Dataset\")\n",
    "print(\"Explained Variance (R^2) \\t:\", rfr.score(X_test, y_test))\n",
    "print(\"Mean Squared Error (MSE) \\t:\", mean_squared_error(y_test, y_test_pred))\n",
    "print()"
   ]
  },
  {
   "cell_type": "markdown",
   "id": "ced15ce3",
   "metadata": {},
   "source": [
    "## Model 3: ElasticNet OR XGBoost"
   ]
  },
  {
   "cell_type": "code",
   "execution_count": null,
   "id": "556dc53a",
   "metadata": {},
   "outputs": [],
   "source": []
  },
  {
   "cell_type": "code",
   "execution_count": null,
   "id": "3e2c9f48",
   "metadata": {},
   "outputs": [],
   "source": []
  },
  {
   "cell_type": "code",
   "execution_count": null,
   "id": "304a18a7",
   "metadata": {},
   "outputs": [],
   "source": []
  },
  {
   "cell_type": "code",
   "execution_count": null,
   "id": "a2570a2d",
   "metadata": {},
   "outputs": [],
   "source": []
  }
 ],
 "metadata": {
  "kernelspec": {
   "display_name": "Python 3 (ipykernel)",
   "language": "python",
   "name": "python3"
  },
  "language_info": {
   "codemirror_mode": {
    "name": "ipython",
    "version": 3
   },
   "file_extension": ".py",
   "mimetype": "text/x-python",
   "name": "python",
   "nbconvert_exporter": "python",
   "pygments_lexer": "ipython3",
   "version": "3.9.7"
  }
 },
 "nbformat": 4,
 "nbformat_minor": 5
}
